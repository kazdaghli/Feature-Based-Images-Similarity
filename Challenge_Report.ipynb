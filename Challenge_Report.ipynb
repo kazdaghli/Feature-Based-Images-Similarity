{
 "cells": [
  {
   "cell_type": "markdown",
   "metadata": {
    "colab_type": "text",
    "id": "QT-n40tYF6d1"
   },
   "source": [
    "# Challenge Large Scale Machine Learning \n",
    "\n",
    "Autor : Sarra Kazdaghli"
   ]
  },
  {
   "cell_type": "markdown",
   "metadata": {
    "colab_type": "text",
    "id": "QIkXV6k0F6d3"
   },
   "source": [
    "For this challenge, a fusion of algorithms for face recognition has led to a dataset of images comparision.\n",
    "This dataset is composed by:\n",
    "- 14 features for image 1\n",
    "- 14 features for image 2\n",
    "- 8 features for the matching scores between image 1 and image 2.\n",
    "\n",
    "The goal here is to predict whether 2 images are similar or not.\n",
    "For that, I adopted the following strategy:\n",
    "- Data exploration:\n",
    "    - Visualize the distribution of features\n",
    "    - Explore the correlation between features\n",
    "    - Test on a sample some machine learning algorithms \n",
    "\n",
    "\n",
    "- First Prediction:\n",
    "    - Prediction with some algorithms\n",
    "       \n",
    "- Prediction amelioration:\n",
    "    - Amelioration with data\n",
    "         - Rescale the data\n",
    "         - Transform the data \n",
    "    - Amelioration with algorithms\n",
    "        - Modify the architecture of the machine learning algorithms       \n",
    "    - Amelioration with ensembles\n",
    "        "
   ]
  },
  {
   "cell_type": "code",
   "execution_count": 1,
   "metadata": {
    "ExecuteTime": {
     "end_time": "2019-01-20T21:42:50.670650Z",
     "start_time": "2019-01-20T21:42:49.716205Z"
    },
    "colab": {},
    "colab_type": "code",
    "id": "OgE_JxyeF6d4"
   },
   "outputs": [],
   "source": [
    "%matplotlib inline\n",
    "import numpy as np\n",
    "import pandas as pd\n",
    "import matplotlib.pyplot as plt\n",
    "import warnings\n",
    "warnings.filterwarnings(\"ignore\")"
   ]
  },
  {
   "cell_type": "markdown",
   "metadata": {
    "colab_type": "text",
    "id": "Hc8-Hot9F6d-"
   },
   "source": [
    "## Data exploration"
   ]
  },
  {
   "cell_type": "markdown",
   "metadata": {
    "colab_type": "text",
    "id": "gL-uYDplF6eA"
   },
   "source": [
    "We start by exploring the features presented in the dataset. We don't know the exact interpertation of each feature  but we do know that the 14th first are representative of the 1rst image, the next 14th of the 2nd image and the last ones of scores computed between the 2 images."
   ]
  },
  {
   "cell_type": "code",
   "execution_count": null,
   "metadata": {},
   "outputs": [],
   "source": [
    "# Load training data\n",
    "xtrain = pd.read_csv('xtrain_challenge.csv')\n",
    "ytrain = pd.read_csv('ytrain_challenge.csv')\n",
    "ytrain = np.array(ytrain)\n",
    "\n",
    "# Reshape ytrain\n",
    "n_samples = len(xtrain)\n",
    "ytrain = np.array(ytrain).reshape(n_samples)"
   ]
  },
  {
   "cell_type": "markdown",
   "metadata": {},
   "source": [
    "Let's see the types of the features we have:"
   ]
  },
  {
   "cell_type": "code",
   "execution_count": 0,
   "metadata": {
    "ExecuteTime": {
     "end_time": "2019-01-18T17:23:26.332624Z",
     "start_time": "2019-01-18T17:23:26.271090Z"
    },
    "colab": {},
    "colab_type": "code",
    "id": "qyEJqOtTF6eI",
    "outputId": "46c4231b-baaa-49be-b9a0-1fcc3e70f521"
   },
   "outputs": [
    {
     "data": {
      "text/plain": [
       "fA1     float64\n",
       "fA2     float64\n",
       "fA3     float64\n",
       "fA4       int64\n",
       "fA5     float64\n",
       "fA6     float64\n",
       "fA7     float64\n",
       "fA8     float64\n",
       "fA9     float64\n",
       "fA10    float64\n",
       "fA11    float64\n",
       "fA12    float64\n",
       "fA13    float64\n",
       "fA14    float64\n",
       "fB1     float64\n",
       "fB2     float64\n",
       "fB3     float64\n",
       "fB4       int64\n",
       "fB5     float64\n",
       "fB6     float64\n",
       "fB7     float64\n",
       "fB8     float64\n",
       "fB9     float64\n",
       "fB10    float64\n",
       "fB11    float64\n",
       "fB12    float64\n",
       "fB13    float64\n",
       "fB14    float64\n",
       "s1      float64\n",
       "s2      float64\n",
       "s3      float64\n",
       "s4      float64\n",
       "s5      float64\n",
       "s6      float64\n",
       "s7      float64\n",
       "s8      float64\n",
       "dtype: object"
      ]
     },
     "execution_count": 3,
     "metadata": {
      "tags": []
     },
     "output_type": "execute_result"
    }
   ],
   "source": [
    "# Types of xtrain\n",
    "xtrain.dtypes"
   ]
  },
  {
   "cell_type": "code",
   "execution_count": 0,
   "metadata": {
    "ExecuteTime": {
     "end_time": "2019-01-18T17:23:40.628552Z",
     "start_time": "2019-01-18T17:23:32.109467Z"
    },
    "colab": {},
    "colab_type": "code",
    "id": "tp4vJ8RyF6eS",
    "outputId": "cea107e4-ba5e-450e-f0a9-231aa585de13"
   },
   "outputs": [
    {
     "data": {
      "text/html": [
       "<div>\n",
       "<style scoped>\n",
       "    .dataframe tbody tr th:only-of-type {\n",
       "        vertical-align: middle;\n",
       "    }\n",
       "\n",
       "    .dataframe tbody tr th {\n",
       "        vertical-align: top;\n",
       "    }\n",
       "\n",
       "    .dataframe thead th {\n",
       "        text-align: right;\n",
       "    }\n",
       "</style>\n",
       "<table border=\"1\" class=\"dataframe\">\n",
       "  <thead>\n",
       "    <tr style=\"text-align: right;\">\n",
       "      <th></th>\n",
       "      <th>fA1</th>\n",
       "      <th>fA2</th>\n",
       "      <th>fA3</th>\n",
       "      <th>fA4</th>\n",
       "      <th>fA5</th>\n",
       "      <th>fA6</th>\n",
       "      <th>fA7</th>\n",
       "      <th>fA8</th>\n",
       "      <th>fA9</th>\n",
       "      <th>fA10</th>\n",
       "      <th>...</th>\n",
       "      <th>fB13</th>\n",
       "      <th>fB14</th>\n",
       "      <th>s1</th>\n",
       "      <th>s2</th>\n",
       "      <th>s3</th>\n",
       "      <th>s4</th>\n",
       "      <th>s5</th>\n",
       "      <th>s6</th>\n",
       "      <th>s7</th>\n",
       "      <th>s8</th>\n",
       "    </tr>\n",
       "  </thead>\n",
       "  <tbody>\n",
       "    <tr>\n",
       "      <th>count</th>\n",
       "      <td>3.196465e+06</td>\n",
       "      <td>3.196465e+06</td>\n",
       "      <td>3.196465e+06</td>\n",
       "      <td>3.196465e+06</td>\n",
       "      <td>3.196465e+06</td>\n",
       "      <td>3.196465e+06</td>\n",
       "      <td>3.196465e+06</td>\n",
       "      <td>3.196465e+06</td>\n",
       "      <td>3.196465e+06</td>\n",
       "      <td>3.196465e+06</td>\n",
       "      <td>...</td>\n",
       "      <td>3.196465e+06</td>\n",
       "      <td>3.196465e+06</td>\n",
       "      <td>3.196465e+06</td>\n",
       "      <td>3.196465e+06</td>\n",
       "      <td>3.196465e+06</td>\n",
       "      <td>3.196465e+06</td>\n",
       "      <td>3.196465e+06</td>\n",
       "      <td>3.196465e+06</td>\n",
       "      <td>3.196465e+06</td>\n",
       "      <td>3.196465e+06</td>\n",
       "    </tr>\n",
       "    <tr>\n",
       "      <th>mean</th>\n",
       "      <td>3.123656e+00</td>\n",
       "      <td>7.200140e-01</td>\n",
       "      <td>8.895844e-02</td>\n",
       "      <td>2.938227e+01</td>\n",
       "      <td>9.112188e-01</td>\n",
       "      <td>4.165448e-03</td>\n",
       "      <td>8.456615e-02</td>\n",
       "      <td>1.323673e-01</td>\n",
       "      <td>2.970159e-02</td>\n",
       "      <td>-2.833317e-04</td>\n",
       "      <td>...</td>\n",
       "      <td>-4.888641e-03</td>\n",
       "      <td>2.477718e+02</td>\n",
       "      <td>3.874350e+03</td>\n",
       "      <td>2.434998e+03</td>\n",
       "      <td>4.200151e+03</td>\n",
       "      <td>4.242067e+03</td>\n",
       "      <td>3.488791e+03</td>\n",
       "      <td>3.399066e+03</td>\n",
       "      <td>3.509614e+03</td>\n",
       "      <td>3.745971e+03</td>\n",
       "    </tr>\n",
       "    <tr>\n",
       "      <th>std</th>\n",
       "      <td>1.618458e+00</td>\n",
       "      <td>4.224322e-01</td>\n",
       "      <td>2.824698e-01</td>\n",
       "      <td>9.793075e+00</td>\n",
       "      <td>2.757797e-01</td>\n",
       "      <td>4.433567e-02</td>\n",
       "      <td>2.729676e-01</td>\n",
       "      <td>4.159110e-01</td>\n",
       "      <td>1.279389e-01</td>\n",
       "      <td>2.096133e-02</td>\n",
       "      <td>...</td>\n",
       "      <td>5.770911e-02</td>\n",
       "      <td>1.221232e+02</td>\n",
       "      <td>2.063822e+03</td>\n",
       "      <td>2.272729e+02</td>\n",
       "      <td>2.954367e+03</td>\n",
       "      <td>2.127659e+03</td>\n",
       "      <td>1.360081e+03</td>\n",
       "      <td>1.363354e+03</td>\n",
       "      <td>1.066627e+03</td>\n",
       "      <td>1.548290e+03</td>\n",
       "    </tr>\n",
       "    <tr>\n",
       "      <th>min</th>\n",
       "      <td>-4.500000e-01</td>\n",
       "      <td>0.000000e+00</td>\n",
       "      <td>0.000000e+00</td>\n",
       "      <td>1.800000e+01</td>\n",
       "      <td>0.000000e+00</td>\n",
       "      <td>0.000000e+00</td>\n",
       "      <td>0.000000e+00</td>\n",
       "      <td>-2.550000e+00</td>\n",
       "      <td>-3.030000e+00</td>\n",
       "      <td>-3.000000e-01</td>\n",
       "      <td>...</td>\n",
       "      <td>-4.200000e-01</td>\n",
       "      <td>-3.087900e+02</td>\n",
       "      <td>1.212700e+03</td>\n",
       "      <td>1.511400e+03</td>\n",
       "      <td>7.218000e+02</td>\n",
       "      <td>1.133800e+03</td>\n",
       "      <td>6.682000e+02</td>\n",
       "      <td>7.200000e+02</td>\n",
       "      <td>1.358000e+03</td>\n",
       "      <td>7.107000e+02</td>\n",
       "    </tr>\n",
       "    <tr>\n",
       "      <th>25%</th>\n",
       "      <td>1.950000e+00</td>\n",
       "      <td>2.500000e-01</td>\n",
       "      <td>0.000000e+00</td>\n",
       "      <td>2.200000e+01</td>\n",
       "      <td>1.000000e+00</td>\n",
       "      <td>0.000000e+00</td>\n",
       "      <td>0.000000e+00</td>\n",
       "      <td>-2.000000e-02</td>\n",
       "      <td>-2.000000e-02</td>\n",
       "      <td>0.000000e+00</td>\n",
       "      <td>...</td>\n",
       "      <td>-3.000000e-02</td>\n",
       "      <td>2.214200e+02</td>\n",
       "      <td>2.420300e+03</td>\n",
       "      <td>2.296300e+03</td>\n",
       "      <td>2.086200e+03</td>\n",
       "      <td>2.735400e+03</td>\n",
       "      <td>2.457200e+03</td>\n",
       "      <td>2.335000e+03</td>\n",
       "      <td>2.742600e+03</td>\n",
       "      <td>2.620100e+03</td>\n",
       "    </tr>\n",
       "    <tr>\n",
       "      <th>50%</th>\n",
       "      <td>3.390000e+00</td>\n",
       "      <td>1.000000e+00</td>\n",
       "      <td>0.000000e+00</td>\n",
       "      <td>2.600000e+01</td>\n",
       "      <td>1.000000e+00</td>\n",
       "      <td>0.000000e+00</td>\n",
       "      <td>0.000000e+00</td>\n",
       "      <td>0.000000e+00</td>\n",
       "      <td>2.000000e-02</td>\n",
       "      <td>0.000000e+00</td>\n",
       "      <td>...</td>\n",
       "      <td>0.000000e+00</td>\n",
       "      <td>2.766400e+02</td>\n",
       "      <td>3.062600e+03</td>\n",
       "      <td>2.439800e+03</td>\n",
       "      <td>3.073300e+03</td>\n",
       "      <td>3.402000e+03</td>\n",
       "      <td>3.063300e+03</td>\n",
       "      <td>2.999800e+03</td>\n",
       "      <td>3.151800e+03</td>\n",
       "      <td>3.218800e+03</td>\n",
       "    </tr>\n",
       "    <tr>\n",
       "      <th>75%</th>\n",
       "      <td>4.380000e+00</td>\n",
       "      <td>1.000000e+00</td>\n",
       "      <td>0.000000e+00</td>\n",
       "      <td>3.400000e+01</td>\n",
       "      <td>1.000000e+00</td>\n",
       "      <td>0.000000e+00</td>\n",
       "      <td>0.000000e+00</td>\n",
       "      <td>1.000000e-01</td>\n",
       "      <td>8.000000e-02</td>\n",
       "      <td>1.000000e-02</td>\n",
       "      <td>...</td>\n",
       "      <td>2.000000e-02</td>\n",
       "      <td>3.216600e+02</td>\n",
       "      <td>4.442500e+03</td>\n",
       "      <td>2.589300e+03</td>\n",
       "      <td>5.143800e+03</td>\n",
       "      <td>4.898800e+03</td>\n",
       "      <td>4.406800e+03</td>\n",
       "      <td>4.375500e+03</td>\n",
       "      <td>3.926300e+03</td>\n",
       "      <td>4.396900e+03</td>\n",
       "    </tr>\n",
       "    <tr>\n",
       "      <th>max</th>\n",
       "      <td>7.940000e+00</td>\n",
       "      <td>1.000000e+00</td>\n",
       "      <td>1.000000e+00</td>\n",
       "      <td>7.400000e+01</td>\n",
       "      <td>1.000000e+00</td>\n",
       "      <td>1.000000e+00</td>\n",
       "      <td>1.000000e+00</td>\n",
       "      <td>2.500000e+00</td>\n",
       "      <td>7.600000e-01</td>\n",
       "      <td>2.600000e-01</td>\n",
       "      <td>...</td>\n",
       "      <td>4.400000e-01</td>\n",
       "      <td>4.814200e+02</td>\n",
       "      <td>1.204420e+04</td>\n",
       "      <td>3.035900e+03</td>\n",
       "      <td>1.666650e+04</td>\n",
       "      <td>1.181290e+04</td>\n",
       "      <td>7.731000e+03</td>\n",
       "      <td>7.580100e+03</td>\n",
       "      <td>6.949500e+03</td>\n",
       "      <td>8.524900e+03</td>\n",
       "    </tr>\n",
       "  </tbody>\n",
       "</table>\n",
       "<p>8 rows × 36 columns</p>\n",
       "</div>"
      ],
      "text/plain": [
       "                fA1           fA2           fA3           fA4           fA5  \\\n",
       "count  3.196465e+06  3.196465e+06  3.196465e+06  3.196465e+06  3.196465e+06   \n",
       "mean   3.123656e+00  7.200140e-01  8.895844e-02  2.938227e+01  9.112188e-01   \n",
       "std    1.618458e+00  4.224322e-01  2.824698e-01  9.793075e+00  2.757797e-01   \n",
       "min   -4.500000e-01  0.000000e+00  0.000000e+00  1.800000e+01  0.000000e+00   \n",
       "25%    1.950000e+00  2.500000e-01  0.000000e+00  2.200000e+01  1.000000e+00   \n",
       "50%    3.390000e+00  1.000000e+00  0.000000e+00  2.600000e+01  1.000000e+00   \n",
       "75%    4.380000e+00  1.000000e+00  0.000000e+00  3.400000e+01  1.000000e+00   \n",
       "max    7.940000e+00  1.000000e+00  1.000000e+00  7.400000e+01  1.000000e+00   \n",
       "\n",
       "                fA6           fA7           fA8           fA9          fA10  \\\n",
       "count  3.196465e+06  3.196465e+06  3.196465e+06  3.196465e+06  3.196465e+06   \n",
       "mean   4.165448e-03  8.456615e-02  1.323673e-01  2.970159e-02 -2.833317e-04   \n",
       "std    4.433567e-02  2.729676e-01  4.159110e-01  1.279389e-01  2.096133e-02   \n",
       "min    0.000000e+00  0.000000e+00 -2.550000e+00 -3.030000e+00 -3.000000e-01   \n",
       "25%    0.000000e+00  0.000000e+00 -2.000000e-02 -2.000000e-02  0.000000e+00   \n",
       "50%    0.000000e+00  0.000000e+00  0.000000e+00  2.000000e-02  0.000000e+00   \n",
       "75%    0.000000e+00  0.000000e+00  1.000000e-01  8.000000e-02  1.000000e-02   \n",
       "max    1.000000e+00  1.000000e+00  2.500000e+00  7.600000e-01  2.600000e-01   \n",
       "\n",
       "           ...               fB13          fB14            s1            s2  \\\n",
       "count      ...       3.196465e+06  3.196465e+06  3.196465e+06  3.196465e+06   \n",
       "mean       ...      -4.888641e-03  2.477718e+02  3.874350e+03  2.434998e+03   \n",
       "std        ...       5.770911e-02  1.221232e+02  2.063822e+03  2.272729e+02   \n",
       "min        ...      -4.200000e-01 -3.087900e+02  1.212700e+03  1.511400e+03   \n",
       "25%        ...      -3.000000e-02  2.214200e+02  2.420300e+03  2.296300e+03   \n",
       "50%        ...       0.000000e+00  2.766400e+02  3.062600e+03  2.439800e+03   \n",
       "75%        ...       2.000000e-02  3.216600e+02  4.442500e+03  2.589300e+03   \n",
       "max        ...       4.400000e-01  4.814200e+02  1.204420e+04  3.035900e+03   \n",
       "\n",
       "                 s3            s4            s5            s6            s7  \\\n",
       "count  3.196465e+06  3.196465e+06  3.196465e+06  3.196465e+06  3.196465e+06   \n",
       "mean   4.200151e+03  4.242067e+03  3.488791e+03  3.399066e+03  3.509614e+03   \n",
       "std    2.954367e+03  2.127659e+03  1.360081e+03  1.363354e+03  1.066627e+03   \n",
       "min    7.218000e+02  1.133800e+03  6.682000e+02  7.200000e+02  1.358000e+03   \n",
       "25%    2.086200e+03  2.735400e+03  2.457200e+03  2.335000e+03  2.742600e+03   \n",
       "50%    3.073300e+03  3.402000e+03  3.063300e+03  2.999800e+03  3.151800e+03   \n",
       "75%    5.143800e+03  4.898800e+03  4.406800e+03  4.375500e+03  3.926300e+03   \n",
       "max    1.666650e+04  1.181290e+04  7.731000e+03  7.580100e+03  6.949500e+03   \n",
       "\n",
       "                 s8  \n",
       "count  3.196465e+06  \n",
       "mean   3.745971e+03  \n",
       "std    1.548290e+03  \n",
       "min    7.107000e+02  \n",
       "25%    2.620100e+03  \n",
       "50%    3.218800e+03  \n",
       "75%    4.396900e+03  \n",
       "max    8.524900e+03  \n",
       "\n",
       "[8 rows x 36 columns]"
      ]
     },
     "execution_count": 4,
     "metadata": {
      "tags": []
     },
     "output_type": "execute_result"
    }
   ],
   "source": [
    "# Description of the dataset\n",
    "xtrain.describe()"
   ]
  },
  {
   "cell_type": "code",
   "execution_count": 3,
   "metadata": {
    "ExecuteTime": {
     "end_time": "2019-01-20T20:16:24.012161Z",
     "start_time": "2019-01-20T20:16:10.068445Z"
    },
    "colab": {},
    "colab_type": "code",
    "id": "51SZM3fWF6eb"
   },
   "outputs": [],
   "source": [
    "# Load test data\n",
    "xtest = pd.read_csv('xtest_challenge.csv')"
   ]
  },
  {
   "cell_type": "code",
   "execution_count": 11,
   "metadata": {
    "ExecuteTime": {
     "end_time": "2019-01-18T17:56:41.950346Z",
     "start_time": "2019-01-18T17:56:31.886303Z"
    },
    "colab": {},
    "colab_type": "code",
    "id": "FQtQ82aVF6ef"
   },
   "outputs": [],
   "source": [
    "df = pd.concat([xtrain, xtest])"
   ]
  },
  {
   "cell_type": "markdown",
   "metadata": {},
   "source": [
    "### Similarity between test and training"
   ]
  },
  {
   "cell_type": "markdown",
   "metadata": {},
   "source": [
    "When looking at the test and training set, we could find that some rows in the test set are also found in the training set:"
   ]
  },
  {
   "cell_type": "code",
   "execution_count": 89,
   "metadata": {
    "ExecuteTime": {
     "end_time": "2019-01-20T17:54:40.565610Z",
     "start_time": "2019-01-20T17:53:10.604032Z"
    }
   },
   "outputs": [],
   "source": [
    "common_cols = xtrain.columns.tolist()  \n",
    "df21 = pd.merge(xtrain, xtest, on=common_cols, how='inner', left_index= True)"
   ]
  },
  {
   "cell_type": "code",
   "execution_count": 90,
   "metadata": {
    "ExecuteTime": {
     "end_time": "2019-01-20T17:54:42.054971Z",
     "start_time": "2019-01-20T17:54:42.046698Z"
    }
   },
   "outputs": [
    {
     "data": {
      "text/plain": [
       "16849"
      ]
     },
     "execution_count": 90,
     "metadata": {},
     "output_type": "execute_result"
    }
   ],
   "source": [
    "len(df21)"
   ]
  },
  {
   "cell_type": "markdown",
   "metadata": {},
   "source": [
    "So there is 16849   occurrences between the training and the testing set.\n",
    "But is there duplicated images in the testing set?"
   ]
  },
  {
   "cell_type": "code",
   "execution_count": 91,
   "metadata": {
    "ExecuteTime": {
     "end_time": "2019-01-20T17:54:57.870338Z",
     "start_time": "2019-01-20T17:54:50.665640Z"
    }
   },
   "outputs": [
    {
     "data": {
      "text/plain": [
       "4190"
      ]
     },
     "execution_count": 91,
     "metadata": {},
     "output_type": "execute_result"
    }
   ],
   "source": [
    "len(xtest.loc[xtest.duplicated() == True].index.tolist())"
   ]
  },
  {
   "cell_type": "markdown",
   "metadata": {},
   "source": [
    "We also found out that there are some duplicated values in the testing set (4190)"
   ]
  },
  {
   "cell_type": "markdown",
   "metadata": {
    "colab_type": "text",
    "id": "EK3FWVnZF6ep"
   },
   "source": [
    "### Distribution of features"
   ]
  },
  {
   "cell_type": "markdown",
   "metadata": {
    "colab_type": "text",
    "id": "NJwg1jEVF6es"
   },
   "source": [
    "We start by exploring the distribution of the given features :"
   ]
  },
  {
   "cell_type": "code",
   "execution_count": 0,
   "metadata": {
    "ExecuteTime": {
     "end_time": "2019-01-18T17:24:54.141821Z",
     "start_time": "2019-01-18T17:24:47.294691Z"
    },
    "colab": {},
    "colab_type": "code",
    "id": "lsxPnU6YF6eu",
    "outputId": "4feb5fcb-87d2-4609-cc76-9369d6f48467"
   },
   "outputs": [
    {
     "data": {
      "image/png": "[encoded data removed]",
      "text/plain": [
       "<Figure size 1080x1440 with 36 Axes>"
      ]
     },
     "metadata": {
      "tags": []
     },
     "output_type": "display_data"
    }
   ],
   "source": [
    "fig = plt.figure(figsize = (15,20))\n",
    "ax = fig.gca()\n",
    "df.hist(ax = ax)\n",
    "plt.show()"
   ]
  },
  {
   "cell_type": "markdown",
   "metadata": {
    "colab_type": "text",
    "id": "HMv_fbgZF6e4"
   },
   "source": [
    "We notice that some features follow a gaussian distribution while some have a exponential distribution : feature fA4, fB4, s3.\n",
    "\n",
    "Also, there are some features(['fA2',  'fA3', 'fA5', 'fA6', 'fA7', 'fA9', 'fB9', 'fB2', 'fB3', 'fB5', 'fB6', 'fB7']) that can be considered as discrete."
   ]
  },
  {
   "cell_type": "markdown",
   "metadata": {
    "colab_type": "text",
    "id": "D3175poYF6e6"
   },
   "source": [
    "### Correlation between features"
   ]
  },
  {
   "cell_type": "markdown",
   "metadata": {
    "colab_type": "text",
    "id": "q3iRq_1wF6e7"
   },
   "source": [
    "Let's now see if we can deduce some correlation between the features:"
   ]
  },
  {
   "cell_type": "markdown",
   "metadata": {
    "colab_type": "text",
    "id": "az4tgAKBF6e7"
   },
   "source": [
    "We start by rescaling the dataset"
   ]
  },
  {
   "cell_type": "code",
   "execution_count": 3,
   "metadata": {
    "ExecuteTime": {
     "end_time": "2019-01-20T17:08:00.875351Z",
     "start_time": "2019-01-20T17:08:00.868369Z"
    },
    "colab": {},
    "colab_type": "code",
    "id": "wX9PdySdF6e8"
   },
   "outputs": [],
   "source": [
    "## Function to rescale data\n",
    "def rescale(df):\n",
    "    from sklearn.preprocessing import StandardScaler\n",
    "    scaler = StandardScaler()\n",
    "    rescaled = scaler.fit_transform(df)\n",
    "    df_rescaled = pd.DataFrame(rescaled, index=df.index, columns=df.columns)\n",
    "    return df_rescaled"
   ]
  },
  {
   "cell_type": "code",
   "execution_count": 0,
   "metadata": {
    "ExecuteTime": {
     "end_time": "2019-01-18T17:25:19.171422Z",
     "start_time": "2019-01-18T17:25:03.497327Z"
    },
    "colab": {},
    "colab_type": "code",
    "id": "UH3uVzFrF6fC"
   },
   "outputs": [],
   "source": [
    "## Rescale all the dataframe\n",
    "df_rescaled = rescale(df)"
   ]
  },
  {
   "cell_type": "markdown",
   "metadata": {
    "colab_type": "text",
    "id": "2eQInrPSF6fJ"
   },
   "source": [
    "We explore the heatmap of the correlation matrix:"
   ]
  },
  {
   "cell_type": "code",
   "execution_count": 0,
   "metadata": {
    "ExecuteTime": {
     "end_time": "2019-01-18T17:25:40.116325Z",
     "start_time": "2019-01-18T17:25:21.563302Z"
    },
    "colab": {},
    "colab_type": "code",
    "id": "0IRumvfFF6fK",
    "outputId": "4d191327-72d4-47e4-d012-ef31e030a285"
   },
   "outputs": [
    {
     "data": {
      "image/png": "[encoded data removed]",
      "text/plain": [
       "<Figure size 432x288 with 2 Axes>"
      ]
     },
     "metadata": {
      "tags": []
     },
     "output_type": "display_data"
    }
   ],
   "source": [
    "import seaborn as sns; sns.set()\n",
    "corr = df_rescaled.corr()\n",
    "ax = sns.heatmap(corr)"
   ]
  },
  {
   "cell_type": "markdown",
   "metadata": {
    "colab_type": "text",
    "id": "Px-3XYvpF6fN"
   },
   "source": [
    "We notice a high correlation betwen:\n",
    "-  fA7 and fA8 \n",
    "- fB2, fA2\n",
    "- fA14, fA5, fB5, fB14\n",
    "-  s1, s3, s4, s5, s6, s7, s9"
   ]
  },
  {
   "cell_type": "markdown",
   "metadata": {
    "colab_type": "text",
    "id": "WPRIyywuF6fO"
   },
   "source": [
    "To support this observation, we look for the eigenvalues of the correlation matrix and draw the decreasing eigenvalues found "
   ]
  },
  {
   "cell_type": "code",
   "execution_count": 0,
   "metadata": {
    "ExecuteTime": {
     "end_time": "2019-01-18T17:25:53.998125Z",
     "start_time": "2019-01-18T17:25:53.829573Z"
    },
    "colab": {},
    "colab_type": "code",
    "id": "9yokrDfvF6fP",
    "outputId": "af6af3a3-8bb2-4d01-a20e-05de72293548"
   },
   "outputs": [
    {
     "data": {
      "image/png": "[encoded data removed]",
      "text/plain": [
       "<Figure size 1080x576 with 1 Axes>"
      ]
     },
     "metadata": {
      "tags": []
     },
     "output_type": "display_data"
    },
    {
     "data": {
      "text/plain": [
       "<Figure size 1080x576 with 0 Axes>"
      ]
     },
     "metadata": {
      "tags": []
     },
     "output_type": "display_data"
    }
   ],
   "source": [
    "# Eigenvalues of the correlation matrix\n",
    "df_eig = np.linalg.eigh(corr)[0]\n",
    "\n",
    "# Graph of the eigenvalues decrease \n",
    "fig = plt.figure(figsize=(15,8))\n",
    "ax = plt.subplot() \n",
    "ax.plot( np.sort(df_eig)[::-1], '-o', label = 'Descending line', )\n",
    "plt.title('Variation of sorted eigenvalues of the correlation matrix')\n",
    "plt.ylabel('EigenValues') \n",
    "plt.legend(loc='best')\n",
    "fig = plt.figure(figsize=(15,8)) \n",
    "plt.show()\n"
   ]
  },
  {
   "cell_type": "markdown",
   "metadata": {},
   "source": [
    "We notice that there are some eigenvalues near 0, which correpsonds to a small variation between features. Some methods of dimensiality reduction like PCA can exploit this information to aggregate features.\n",
    "\n",
    "Let's see how many eigenvalues are below 0.1:"
   ]
  },
  {
   "cell_type": "code",
   "execution_count": 0,
   "metadata": {
    "ExecuteTime": {
     "end_time": "2019-01-18T17:26:12.594083Z",
     "start_time": "2019-01-18T17:26:12.589128Z"
    },
    "colab": {},
    "colab_type": "code",
    "id": "qlhw3Uj8F6fT",
    "outputId": "56414511-0b67-470c-ea37-96900c44e8fd"
   },
   "outputs": [
    {
     "name": "stdout",
     "output_type": "stream",
     "text": [
      "There are as shown in the graph 9 below 0.1\n"
     ]
    }
   ],
   "source": [
    "# How many eigenvalues are below 0.1\n",
    "print(\"There are as shown in the graph\", len(df_eig[np.where(df_eig <= 0.1)]),\\\n",
    "     \"below 0.1\")"
   ]
  },
  {
   "cell_type": "markdown",
   "metadata": {
    "colab_type": "text",
    "id": "ECIYzIhSF6fb"
   },
   "source": [
    "### Explore Machine Learning Algorithms on a sample"
   ]
  },
  {
   "cell_type": "markdown",
   "metadata": {
    "colab_type": "text",
    "id": "YziWloQ4F6fd"
   },
   "source": [
    "In this section, we want to try out some machine learning algorithms for binary classification problems.\n",
    "\n",
    "In fact, our dataset  is  large and we want to test some models on a sample only to test which is the most efficient before running it on all the dataset"
   ]
  },
  {
   "cell_type": "code",
   "execution_count": 0,
   "metadata": {
    "ExecuteTime": {
     "end_time": "2019-01-18T17:57:07.684520Z",
     "start_time": "2019-01-18T17:56:44.305535Z"
    },
    "colab": {},
    "colab_type": "code",
    "id": "8-o6ieZZF6ff"
   },
   "outputs": [],
   "source": [
    "train = pd.concat([xtrain, pd.Series(ytrain)], axis=1)\n",
    "\n",
    "# Take a 5000 points sample\n",
    "train = train.sample(5000)\n",
    "xtrain_sample = train.iloc[:,:-1]\n",
    "ytrain_sample = np.array(train.iloc[:,-1:]).reshape(len(train))"
   ]
  },
  {
   "cell_type": "code",
   "execution_count": 0,
   "metadata": {
    "ExecuteTime": {
     "end_time": "2019-01-18T17:57:23.900670Z",
     "start_time": "2019-01-18T17:57:10.326004Z"
    },
    "colab": {},
    "colab_type": "code",
    "id": "YRVWAl7UF6fl"
   },
   "outputs": [],
   "source": [
    "## Split data on 80% training and 20% testing\n",
    "from sklearn.model_selection import train_test_split\n",
    "xtrain_0, xtest_0, ytrain_0, ytest_0 = train_test_split(xtrain_sample, ytrain_sample, test_size=0.2, random_state = 100)"
   ]
  },
  {
   "cell_type": "markdown",
   "metadata": {
    "colab_type": "text",
    "id": "TGb72zTrF6fo"
   },
   "source": [
    "We start out with a simple **logistic regression**:"
   ]
  },
  {
   "cell_type": "markdown",
   "metadata": {},
   "source": [
    "The model of logistic regression uses the sigmoid function to predict the probability of having a certain class knowing a certain input x.\n",
    "\n",
    "Input values (x) are combined linearly using  coefficient values to predict an output value (y) as followed:\n",
    "$$p(y = 1|x; \\theta) = \\frac{1}{1 + \\exp(−\\theta tx))}$$\n",
    "\n",
    "The coefficients of the logistic regression algorithm is to be estimated from the training data. "
   ]
  },
  {
   "cell_type": "code",
   "execution_count": 0,
   "metadata": {
    "ExecuteTime": {
     "end_time": "2019-01-18T17:57:54.450326Z",
     "start_time": "2019-01-18T17:57:53.236292Z"
    },
    "colab": {},
    "colab_type": "code",
    "id": "p7102auaF6fp",
    "outputId": "bbddfab5-1f27-4e12-fe52-f1248cbd14db"
   },
   "outputs": [
    {
     "name": "stdout",
     "output_type": "stream",
     "text": [
      "The score for logistic regression is 0.939\n"
     ]
    }
   ],
   "source": [
    "from sklearn.linear_model import LogisticRegression\n",
    "\n",
    "# Train the classifier on a part of the data set\n",
    "lr = LogisticRegression(random_state=0, solver='lbfgs').fit(xtrain_0, ytrain_0)\n",
    "\n",
    "print(\"The score for logistic regression is\", lr.score(xtest_0, ytest_0))"
   ]
  },
  {
   "cell_type": "markdown",
   "metadata": {
    "colab_type": "text",
    "id": "Le0mmMBBF6fu"
   },
   "source": [
    "**DecisionTreeClassifier**\n",
    "\n",
    "A decision tree is a representation of a binary tree. Each root node represents a single input variable (x) and a split point on that variable.\n",
    "\n",
    "The leaf nodes of the tree contain an output variable. Decision trees have the advantage of being interpretable."
   ]
  },
  {
   "cell_type": "code",
   "execution_count": 0,
   "metadata": {
    "ExecuteTime": {
     "end_time": "2019-01-18T17:57:56.424996Z",
     "start_time": "2019-01-18T17:57:56.223834Z"
    },
    "colab": {},
    "colab_type": "code",
    "id": "h36SHHN8F6fv",
    "outputId": "bb04898a-47e8-4f61-b8f0-0c4c351a6775"
   },
   "outputs": [
    {
     "name": "stdout",
     "output_type": "stream",
     "text": [
      "The score for a decision tree classifier is 0.943\n"
     ]
    }
   ],
   "source": [
    "from sklearn.tree import DecisionTreeClassifier\n",
    "\n",
    "# Train the classifier on a part of the data set\n",
    "dt = DecisionTreeClassifier(max_leaf_nodes=3, random_state=0).fit(xtrain_0, ytrain_0)\n",
    "\n",
    "# Check it on another part of the data set\n",
    "yvalid_dt = dt.predict(xtest_0)\n",
    "\n",
    "print(\"The score for a decision tree classifier is\", (yvalid_dt == ytest_0).mean())"
   ]
  },
  {
   "cell_type": "markdown",
   "metadata": {
    "colab_type": "text",
    "id": "4IGso2KJF6f2"
   },
   "source": [
    "**SVC**\n",
    "\n",
    "The support vector machine algorithm aims to find the frontier between data that maximizes the minimum distance to\n",
    "that frontier (the margin).\n",
    "\n",
    "To do so, it sets up an optimization problem."
   ]
  },
  {
   "cell_type": "code",
   "execution_count": 0,
   "metadata": {
    "ExecuteTime": {
     "end_time": "2019-01-18T18:01:05.668236Z",
     "start_time": "2019-01-18T17:58:01.813219Z"
    },
    "colab": {},
    "colab_type": "code",
    "id": "ES4JaruYF6f3",
    "outputId": "8b65e166-6242-4c9d-ba0e-1ba4e04c47fb"
   },
   "outputs": [
    {
     "name": "stdout",
     "output_type": "stream",
     "text": [
      "The score for a SVC is 0.958\n"
     ]
    }
   ],
   "source": [
    "from sklearn.svm import SVC\n",
    "\n",
    "# Train the classifier on a part of the data set\n",
    "s = SVC(kernel=\"linear\", C=0.025).fit(xtrain_0, ytrain_0)\n",
    "\n",
    "# Check it on another part of the data set\n",
    "yvalid_s = s.predict(xtest_0)\n",
    "\n",
    "print(\"The score for a SVC is\", (yvalid_s == ytest_0).mean())"
   ]
  },
  {
   "cell_type": "markdown",
   "metadata": {
    "colab_type": "text",
    "id": "qxphIODJF6f8"
   },
   "source": [
    "**MLP Classifier**"
   ]
  },
  {
   "cell_type": "code",
   "execution_count": 0,
   "metadata": {
    "ExecuteTime": {
     "end_time": "2019-01-18T18:01:26.489058Z",
     "start_time": "2019-01-18T18:01:21.588476Z"
    },
    "colab": {},
    "colab_type": "code",
    "id": "XPWMQoEVF6f9",
    "outputId": "0336ec8c-b170-46d9-e601-9c970d171fd9"
   },
   "outputs": [
    {
     "name": "stdout",
     "output_type": "stream",
     "text": [
      "The score for a MLP Classifier is 0.901\n"
     ]
    }
   ],
   "source": [
    "from sklearn.neural_network import MLPClassifier\n",
    "\n",
    "mlp = MLPClassifier(hidden_layer_sizes=100, activation= 'relu', alpha=0.001, solver= \"adam\", learning_rate_init=0.01, \\\n",
    "                    early_stopping=False, validation_fraction=0.4, beta_1=0.1, beta_2=0.9999)\n",
    "mlp.fit(xtrain_0, ytrain_0)\n",
    "\n",
    "yvalid_mlp = mlp.predict(xtest_0)\n",
    "\n",
    "print(\"The score for a MLP Classifier is\", (yvalid_mlp == ytest_0).mean())"
   ]
  },
  {
   "cell_type": "markdown",
   "metadata": {
    "colab_type": "text",
    "id": "Wp-qBxszF6gA"
   },
   "source": [
    "**Random Forest Classifier**\n",
    "\n",
    "The random forest classifier is a tree-based technique that uses a  number of decision trees\n",
    "bootstrapping sets of features. \n",
    "\n",
    "It is highly uninterpretable but gives good performance because it reduces the variance of data."
   ]
  },
  {
   "cell_type": "code",
   "execution_count": 0,
   "metadata": {
    "ExecuteTime": {
     "end_time": "2019-01-18T18:01:37.644575Z",
     "start_time": "2019-01-18T18:01:28.684514Z"
    },
    "colab": {},
    "colab_type": "code",
    "id": "yHYrCUhYF6gD",
    "outputId": "449fc606-9835-4d21-e246-089ec09cae58"
   },
   "outputs": [
    {
     "name": "stdout",
     "output_type": "stream",
     "text": [
      "The score for a Random Forest Classifier is 0.966\n"
     ]
    }
   ],
   "source": [
    "from sklearn.ensemble import RandomForestClassifier\n",
    "\n",
    "# Train the classifier on a part of the data set\n",
    "rf = RandomForestClassifier(n_jobs=-1, n_estimators=2000,\n",
    "                         ).fit(xtrain_0, ytrain_0)\n",
    "\n",
    "# Check it on another part of the data set\n",
    "yvalid_rf = rf.predict(xtest_0)\n",
    "\n",
    "print(\"The score for a Random Forest Classifier is\", (yvalid_rf == ytest_0).mean())"
   ]
  },
  {
   "cell_type": "markdown",
   "metadata": {
    "colab_type": "text",
    "id": "qmerue_8F6gH"
   },
   "source": [
    "**XGBoost**\n",
    "\n",
    "XGBoost is an implementation of gradient boosting. Boosting is based on combining several weak learners to become a stronger one. Weak learners are trained on remaining errors.\n",
    "\n",
    "The objective is to minimize the loss of the model by adding weak learners using a gradient descent like procedure.\n",
    "XGBoost uses models of gradient boosting decision trees.\n",
    "\n",
    "To find the best split of features in the trees, it uses a Histogram based algorithm: it splits the for a feature into discrete bins and uses them to find the best split value of histogram."
   ]
  },
  {
   "cell_type": "code",
   "execution_count": 0,
   "metadata": {
    "ExecuteTime": {
     "end_time": "2019-01-18T18:01:48.977516Z",
     "start_time": "2019-01-18T18:01:41.278088Z"
    },
    "colab": {},
    "colab_type": "code",
    "id": "9VnrzwaPF6gI",
    "outputId": "1b8c35da-cfbf-4132-8923-ce6a7df53f8c"
   },
   "outputs": [
    {
     "name": "stdout",
     "output_type": "stream",
     "text": [
      "The score for a xgboost is 0.97\n"
     ]
    }
   ],
   "source": [
    "import xgboost as xgb\n",
    "gbm = xgb.XGBClassifier(\n",
    " n_estimators= 1000,\n",
    " max_depth= 4,\n",
    " min_child_weight= 2,\n",
    " #gamma=1,\n",
    " gamma=0.9,                        \n",
    " subsample=0.8,\n",
    " colsample_bytree=0.8,\n",
    " objective= 'binary:logistic',\n",
    " nthread= -1,\n",
    " scale_pos_weight=1).fit(xtrain_0, ytrain_0)\n",
    "\n",
    "yvalid_gbm = gbm.predict(xtest_0)\n",
    "\n",
    "print(\"The score for a xgboost is\", (yvalid_gbm == ytest_0).mean())"
   ]
  },
  {
   "cell_type": "markdown",
   "metadata": {
    "colab_type": "text",
    "id": "l06VUBccF6gP"
   },
   "source": [
    "**Lightgbm**\n",
    "\n",
    "Lightgbm is also a gradient boosting algorithm developed by Microsoft. Different from XGBoost, LightGBM uses Gradient-based One-Side Sampling (GOSS) to filter out the data instances in order to find a split value.\n",
    "\n",
    "GOSS keeps all the instances with large gradients and performs random sampling on the instances with small gradients.\n",
    "\n",
    "Lightgbm is used because it can have a near performance to xgboost and is lighter in training time."
   ]
  },
  {
   "cell_type": "code",
   "execution_count": 0,
   "metadata": {
    "ExecuteTime": {
     "end_time": "2019-01-18T18:01:59.896644Z",
     "start_time": "2019-01-18T18:01:55.580164Z"
    },
    "colab": {},
    "colab_type": "code",
    "id": "-cfEWFoBF6gQ",
    "outputId": "f5d3a510-91d5-49a3-ba31-e58ca4be46f7"
   },
   "outputs": [
    {
     "name": "stdout",
     "output_type": "stream",
     "text": [
      "The score for a xgboost is 0.973\n"
     ]
    }
   ],
   "source": [
    "import lightgbm as lgb\n",
    "\n",
    "lg = lgb.LGBMClassifier(num_leaves=3000,\n",
    "              learning_rate =0.1, num_iterators=4000,\n",
    "n_estimators = 200, n_jobs=-1, silent=False).fit(xtrain_0, ytrain_0)\n",
    "\n",
    "yvalid_lg = lg.predict(xtest_0)\n",
    "\n",
    "print(\"The score for a lightgbm is\", (yvalid_lg == ytest_0).mean())"
   ]
  },
  {
   "cell_type": "markdown",
   "metadata": {
    "colab_type": "text",
    "id": "RrXgwRItF6gT"
   },
   "source": [
    "**Conclusion**\n",
    "\n",
    "After running all these models, we have found out that the lightgbm gives the best performance in comparision with other algorithms.\n",
    "\n",
    "In order of performance, we have:\n",
    "lightgbm > xgboost > Random Forest Classifier > SVC > Decision tree classifier > Logisitic regression > MLP classifier.\n",
    "\n",
    "So, in the next section, we will try to get a first prediction with the lightgbm classifier by tuning certain parameters and see how it performs.\n",
    "\n",
    "We will also try out a neural network algorithm as it is more sensitive to feature engineering and data transformation and see how we can drastically improve the performance of a simple straightforward neural network."
   ]
  },
  {
   "cell_type": "markdown",
   "metadata": {
    "colab_type": "text",
    "id": "wlA76y6IF6gU"
   },
   "source": [
    "## First prediction"
   ]
  },
  {
   "cell_type": "markdown",
   "metadata": {
    "colab_type": "text",
    "id": "P-B08oOJF6gU"
   },
   "source": [
    "In this section, we will try first to tune some hyperparameters to optimise the performances of the lightgbm algorithm.\n",
    "\n",
    "Then, we will try a neural network algorithm without much of an optimization, algorithm that we will try to outperform in further sections."
   ]
  },
  {
   "cell_type": "markdown",
   "metadata": {
    "colab_type": "text",
    "id": "m9rkqGMUF6gV"
   },
   "source": [
    "**Lightgbm**\n",
    "\n",
    "For the lightgbm algorithm, we tried different parameters:\n",
    "   - Boosting: gbdt(traditional Gradient Boosting Decision Tree), rf (random forests) or dart (Dropouts meet Multiple Additive Regression Trees)\n",
    "   - learning_rate: shrinkage rate (0.2, 0.1 or 0.01)\n",
    "   - num_iterations: number of boosting iterations (1000, 2000, 4000)\n",
    "   - num_leaves:  max number of leaves in one tree (100, 1000, 3000)\n",
    "   - n_estimators: number of estimators trees (100, 200, 300)\n",
    "   \n",
    "In tuning these parameters, for better accuracy, we could increase the number of iterations and the number of maximum leaves. But, to avoid overfitting, a good idea is to not have a too small learning rate."
   ]
  },
  {
   "cell_type": "code",
   "execution_count": 0,
   "metadata": {
    "colab": {},
    "colab_type": "code",
    "id": "nJg2807yF6gW"
   },
   "outputs": [],
   "source": [
    "import lightgbm as lgb\n",
    "\n",
    "lg = lgb.LGBMClassifier(boosting='dart',  max_depth = 25, learning_rate = 0.1, num_iterations=4000,\n",
    "              num_leaves = 3000, objective='binary', metrics='binary_error',\n",
    "n_estimators = 200, n_jobs=-1, silent=False).fit(xtrain, ytrain)"
   ]
  },
  {
   "cell_type": "markdown",
   "metadata": {},
   "source": [
    "After tuning, we realised a good prediction with the above chosen parameters on the test dataset:\n",
    "prediction of 0.994411282552."
   ]
  },
  {
   "cell_type": "markdown",
   "metadata": {
    "colab_type": "text",
    "id": "6Yq3NMVrF6gY"
   },
   "source": [
    "**Neural Network**"
   ]
  },
  {
   "cell_type": "markdown",
   "metadata": {
    "colab_type": "text",
    "id": "llG_-XqpF6gZ"
   },
   "source": [
    "We also try to run the data through a feedforward neural network with a simple architecture:"
   ]
  },
  {
   "cell_type": "code",
   "execution_count": 0,
   "metadata": {
    "ExecuteTime": {
     "end_time": "2019-01-18T19:19:18.808976Z",
     "start_time": "2019-01-18T18:47:54.094907Z"
    },
    "colab": {},
    "colab_type": "code",
    "id": "HyDPhp_gF6ga",
    "outputId": "85f77122-ba27-4705-a402-bface9d7a1f6"
   },
   "outputs": [
    {
     "name": "stderr",
     "output_type": "stream",
     "text": [
      "Using TensorFlow backend.\n"
     ]
    },
    {
     "name": "stdout",
     "output_type": "stream",
     "text": [
      "Epoch 1/10\n",
      "3196465/3196465 [==============================] - 150s 47us/step - loss: 4.6076 - acc: 0.7141\n",
      "Epoch 2/10\n",
      "3196465/3196465 [==============================] - 169s 53us/step - loss: 4.6055 - acc: 0.7143\n",
      "Epoch 3/10\n",
      "3196465/3196465 [==============================] - 203s 64us/step - loss: 4.6055 - acc: 0.7143\n",
      "Epoch 4/10\n",
      "3196465/3196465 [==============================] - 189s 59us/step - loss: 4.6055 - acc: 0.7143\n",
      "Epoch 5/10\n",
      "3196465/3196465 [==============================] - 187s 58us/step - loss: 4.6055 - acc: 0.7143\n",
      "Epoch 6/10\n",
      "3196465/3196465 [==============================] - 191s 60us/step - loss: 4.6055 - acc: 0.7143\n",
      "Epoch 7/10\n",
      "3196465/3196465 [==============================] - 195s 61us/step - loss: 4.6055 - acc: 0.7143\n",
      "Epoch 8/10\n",
      "3196465/3196465 [==============================] - 212s 66us/step - loss: 4.6055 - acc: 0.7143\n",
      "Epoch 9/10\n",
      "3196465/3196465 [==============================] - 186s 58us/step - loss: 4.6055 - acc: 0.7143\n",
      "Epoch 10/10\n",
      "3196465/3196465 [==============================] - 189s 59us/step - loss: 4.6055 - acc: 0.7143\n"
     ]
    },
    {
     "data": {
      "text/plain": [
       "<keras.callbacks.History at 0x12b10f82780>"
      ]
     },
     "execution_count": 3,
     "metadata": {
      "tags": []
     },
     "output_type": "execute_result"
    }
   ],
   "source": [
    "from keras.layers import Input, Dense\n",
    "from keras.models import Model\n",
    "main_input = Input(shape=(36,), name='image1_2_scores')\n",
    "\n",
    "x = Dense(1024, activation='relu')(main_input)\n",
    "x = Dense(256, activation='relu')(x)\n",
    "x = Dense(64, activation='relu')(x)\n",
    "x = Dense(36, activation='relu')(x)\n",
    "# And finally we add the main logistic regression layer\n",
    "main_output = Dense(1, activation='sigmoid', name='main_output')(x)\n",
    "\n",
    "model = Model(inputs=[main_input], outputs=[main_output])\n",
    "\n",
    "model.compile(optimizer='adam', loss='binary_crossentropy', metrics=['accuracy'])\n",
    "model.fit([xtrain], ytrain, epochs=10, batch_size=1000)"
   ]
  },
  {
   "cell_type": "code",
   "execution_count": 0,
   "metadata": {
    "ExecuteTime": {
     "end_time": "2019-01-18T19:21:12.682078Z",
     "start_time": "2019-01-18T19:21:11.721161Z"
    },
    "colab": {},
    "colab_type": "code",
    "id": "ND0NcOGqF6gf",
    "outputId": "d0a14e20-fc98-4a11-9e47-0bc746992383"
   },
   "outputs": [
    {
     "data": {
      "text/plain": [
       "['model_nn_simple.sav']"
      ]
     },
     "execution_count": 4,
     "metadata": {
      "tags": []
     },
     "output_type": "execute_result"
    }
   ],
   "source": [
    "from sklearn.externals import joblib\n",
    "\n",
    "# save the model to disk\n",
    "filename = 'model_nn_simple.sav'\n",
    "joblib.dump(model, filename)"
   ]
  },
  {
   "cell_type": "markdown",
   "metadata": {},
   "source": [
    "We notice that we this architecture and with the raw data, the neural network does not perform very well.\n",
    "\n",
    "That's why, in the next sections, we will try to improve performance by data transformations and modifying the architecture."
   ]
  },
  {
   "cell_type": "markdown",
   "metadata": {
    "colab_type": "text",
    "id": "48-M-X9vF6gl"
   },
   "source": [
    "## Prediction Amelioration"
   ]
  },
  {
   "cell_type": "markdown",
   "metadata": {
    "colab_type": "text",
    "id": "7uNQZiq4F6gm"
   },
   "source": [
    "In this section, we will try to ameliorate the prediction deduced from the raw dataset by different methods of data transformation, complexifying algorithms and combining models."
   ]
  },
  {
   "cell_type": "markdown",
   "metadata": {
    "colab_type": "text",
    "id": "kXiRevfMF6gq"
   },
   "source": [
    "### Amelioration with data"
   ]
  },
  {
   "cell_type": "markdown",
   "metadata": {
    "colab_type": "text",
    "id": "oO-4yAJLF6gr"
   },
   "source": [
    "Thanks to the observations in the data exploration section, we can think of improving the prediction by data transformation.\n",
    "\n",
    "We will try to :\n",
    "- Rescale the data\n",
    "- Apply PCA\n",
    "- Applying logarithm and data discretization"
   ]
  },
  {
   "cell_type": "markdown",
   "metadata": {
    "colab_type": "text",
    "id": "bbxNXkKbF6gs"
   },
   "source": [
    "#### Rescale the data"
   ]
  },
  {
   "cell_type": "markdown",
   "metadata": {
    "colab_type": "text",
    "id": "5a015UtwF6gt"
   },
   "source": [
    "For the neural network algorithm, it can be a good idea to rescale the data to the bounds of the activation functions.\n",
    "\n",
    "We are using a sigmoid function. So, the rescaling can be done between 0 and 1.\n",
    "To this end, we use a MinMaxScaler:"
   ]
  },
  {
   "cell_type": "markdown",
   "metadata": {
    "colab_type": "text",
    "id": "0X1zzd7KF6gu"
   },
   "source": [
    "**MinMaxScaling**"
   ]
  },
  {
   "cell_type": "code",
   "execution_count": 0,
   "metadata": {
    "ExecuteTime": {
     "end_time": "2019-01-18T19:21:18.997628Z",
     "start_time": "2019-01-18T19:21:18.993607Z"
    },
    "colab": {},
    "colab_type": "code",
    "id": "JWRR5z6yF6gv"
   },
   "outputs": [],
   "source": [
    "def rescaleMinMax(df):\n",
    "    from sklearn.preprocessing import MinMaxScaler\n",
    "    scaler = MinMaxScaler()\n",
    "    min_max = scaler.fit_transform(df)\n",
    "    return min_max"
   ]
  },
  {
   "cell_type": "code",
   "execution_count": 0,
   "metadata": {
    "ExecuteTime": {
     "end_time": "2019-01-18T19:21:27.400673Z",
     "start_time": "2019-01-18T19:21:21.853117Z"
    },
    "colab": {},
    "colab_type": "code",
    "id": "pyjWLVgqF6gz"
   },
   "outputs": [],
   "source": [
    "# Rescaling to [0,1] the training set\n",
    "train_min_max = rescaleMinMax(xtrain)"
   ]
  },
  {
   "cell_type": "code",
   "execution_count": 0,
   "metadata": {
    "ExecuteTime": {
     "end_time": "2019-01-18T19:21:40.688205Z",
     "start_time": "2019-01-18T19:21:37.890648Z"
    },
    "colab": {},
    "colab_type": "code",
    "id": "lNmMg0MVF6g3"
   },
   "outputs": [],
   "source": [
    "## Split data on 80% training and 20% testing\n",
    "from sklearn.model_selection import train_test_split\n",
    "xtrain_1, xtest_1, ytrain_1, ytest_1 = train_test_split(train_min_max, ytrain, test_size=0.2, random_state = 100)"
   ]
  },
  {
   "cell_type": "markdown",
   "metadata": {},
   "source": [
    "Let's apply now the simple architecture of neural network afer min max scaling:"
   ]
  },
  {
   "cell_type": "code",
   "execution_count": 0,
   "metadata": {
    "ExecuteTime": {
     "end_time": "2019-01-18T19:47:11.011557Z",
     "start_time": "2019-01-18T19:21:43.460637Z"
    },
    "colab": {},
    "colab_type": "code",
    "id": "vl7ZzTmjF6g9",
    "outputId": "3fe6e773-419f-4bea-bc87-3b28e057953a"
   },
   "outputs": [
    {
     "name": "stdout",
     "output_type": "stream",
     "text": [
      "Train on 2557172 samples, validate on 639293 samples\n",
      "Epoch 1/10\n",
      "2557172/2557172 [==============================] - 142s 55us/step - loss: 0.0735 - acc: 0.9735 - val_loss: 0.0619 - val_acc: 0.9775\n",
      "Epoch 2/10\n",
      "2557172/2557172 [==============================] - 149s 58us/step - loss: 0.0550 - acc: 0.9798 - val_loss: 0.0523 - val_acc: 0.9807\n",
      "Epoch 3/10\n",
      "2557172/2557172 [==============================] - 156s 61us/step - loss: 0.0514 - acc: 0.9810 - val_loss: 0.0487 - val_acc: 0.9820\n",
      "Epoch 4/10\n",
      "2557172/2557172 [==============================] - 159s 62us/step - loss: 0.0493 - acc: 0.9816 - val_loss: 0.0493 - val_acc: 0.9814\n",
      "Epoch 5/10\n",
      "2557172/2557172 [==============================] - 161s 63us/step - loss: 0.0479 - acc: 0.9821 - val_loss: 0.0475 - val_acc: 0.9823\n",
      "Epoch 6/10\n",
      "2557172/2557172 [==============================] - 150s 59us/step - loss: 0.0469 - acc: 0.9825 - val_loss: 0.0447 - val_acc: 0.9832\n",
      "Epoch 7/10\n",
      "2557172/2557172 [==============================] - 153s 60us/step - loss: 0.0459 - acc: 0.9828 - val_loss: 0.0452 - val_acc: 0.9832\n",
      "Epoch 8/10\n",
      "2557172/2557172 [==============================] - 152s 59us/step - loss: 0.0451 - acc: 0.9831 - val_loss: 0.0483 - val_acc: 0.9815\n",
      "Epoch 9/10\n",
      "2557172/2557172 [==============================] - 153s 60us/step - loss: 0.0445 - acc: 0.9832 - val_loss: 0.0444 - val_acc: 0.9836\n",
      "Epoch 10/10\n",
      "2557172/2557172 [==============================] - 153s 60us/step - loss: 0.0438 - acc: 0.9835 - val_loss: 0.0438 - val_acc: 0.9835\n"
     ]
    },
    {
     "data": {
      "text/plain": [
       "<keras.callbacks.History at 0x12b12902fd0>"
      ]
     },
     "execution_count": 9,
     "metadata": {
      "tags": []
     },
     "output_type": "execute_result"
    }
   ],
   "source": [
    "from keras.layers import Input, Dense\n",
    "from keras.models import Model\n",
    "main_input = Input(shape=(36,), name='image1_2_scores')\n",
    "\n",
    "x = Dense(1024, activation='relu')(main_input)\n",
    "x = Dense(256, activation='relu')(x)\n",
    "x = Dense(64, activation='relu')(x)\n",
    "\n",
    "# And finally we add the main logistic regression layer\n",
    "main_output = Dense(1, activation='sigmoid', name='main_output')(x)\n",
    "\n",
    "model = Model(inputs=[main_input], outputs=[main_output])\n",
    "model.compile(optimizer='adam', loss='binary_crossentropy', metrics=['accuracy'])\n",
    "model.fit([xtrain_1], ytrain_1, epochs=10, batch_size=1000, validation_data=([xtest_1], ytest_1))"
   ]
  },
  {
   "cell_type": "markdown",
   "metadata": {},
   "source": [
    "With the same number of epochs, we notice a great improvement of performances. we go from 0.7143 to 0.9835 on the training set with a score of 0.9835 on the test set.\n",
    "\n",
    "We can be confident that with the optimisation of the neural network, we can obtain good results on the testing dataset."
   ]
  },
  {
   "cell_type": "code",
   "execution_count": 0,
   "metadata": {
    "colab": {},
    "colab_type": "code",
    "id": "vP7xDcoDF6hD"
   },
   "outputs": [],
   "source": [
    "plot_model(model, to_file='model_plot_nn_simple_MinMax.png', show_shapes=True, show_layer_names=True)\n"
   ]
  },
  {
   "cell_type": "markdown",
   "metadata": {},
   "source": [
    "We save the model:"
   ]
  },
  {
   "cell_type": "code",
   "execution_count": 0,
   "metadata": {
    "ExecuteTime": {
     "end_time": "2019-01-18T19:48:19.016267Z",
     "start_time": "2019-01-18T19:48:18.847043Z"
    },
    "colab": {},
    "colab_type": "code",
    "id": "-PsZpbvGF6hH",
    "outputId": "e458bd6b-ada4-4c32-a891-fdc309e260ba"
   },
   "outputs": [
    {
     "data": {
      "text/plain": [
       "['model_nn_simple_MinMax.sav']"
      ]
     },
     "execution_count": 10,
     "metadata": {
      "tags": []
     },
     "output_type": "execute_result"
    }
   ],
   "source": [
    "from sklearn.externals import joblib\n",
    "\n",
    "# save the model to disk\n",
    "filename = 'model_nn_simple_MinMax.sav'\n",
    "joblib.dump(model, filename)"
   ]
  },
  {
   "cell_type": "markdown",
   "metadata": {
    "colab_type": "text",
    "id": "AbH57eKYF6hM"
   },
   "source": [
    "**Standard Scaling**\n",
    "\n",
    "Another type of scaling is the standard scaling using the arithmetic mean and standard deviation of the data."
   ]
  },
  {
   "cell_type": "code",
   "execution_count": 5,
   "metadata": {
    "ExecuteTime": {
     "end_time": "2019-01-20T17:00:46.806048Z",
     "start_time": "2019-01-20T17:00:31.023222Z"
    },
    "colab": {},
    "colab_type": "code",
    "id": "tks0DEVRF6hM"
   },
   "outputs": [],
   "source": [
    "# Rescale the training set\n",
    "train_scaled = rescale(xtrain)"
   ]
  },
  {
   "cell_type": "code",
   "execution_count": 0,
   "metadata": {
    "ExecuteTime": {
     "end_time": "2019-01-18T19:48:56.515561Z",
     "start_time": "2019-01-18T19:48:53.798611Z"
    },
    "colab": {},
    "colab_type": "code",
    "id": "GVF0lP5OF6hO"
   },
   "outputs": [],
   "source": [
    "## Split data on 80% training and 20% testing\n",
    "from sklearn.model_selection import train_test_split\n",
    "xtrain_2, xtest_2, ytrain_2, ytest_2 = train_test_split(train_scaled, ytrain, test_size=0.2, random_state = 100)"
   ]
  },
  {
   "cell_type": "code",
   "execution_count": 0,
   "metadata": {
    "ExecuteTime": {
     "end_time": "2019-01-18T20:14:24.986216Z",
     "start_time": "2019-01-18T19:49:02.242662Z"
    },
    "colab": {},
    "colab_type": "code",
    "id": "brvPwTWtF6hQ",
    "outputId": "47aa45b3-5ef9-4ea7-b714-39efe05b65d4"
   },
   "outputs": [
    {
     "name": "stdout",
     "output_type": "stream",
     "text": [
      "Train on 2557172 samples, validate on 639293 samples\n",
      "Epoch 1/10\n",
      "2557172/2557172 [==============================] - 139s 54us/step - loss: 0.0512 - acc: 0.9811 - val_loss: 0.0426 - val_acc: 0.9841\n",
      "Epoch 2/10\n",
      "2557172/2557172 [==============================] - 150s 59us/step - loss: 0.0408 - acc: 0.9846 - val_loss: 0.0403 - val_acc: 0.9848\n",
      "Epoch 3/10\n",
      "2557172/2557172 [==============================] - 154s 60us/step - loss: 0.0376 - acc: 0.9857 - val_loss: 0.0374 - val_acc: 0.9860\n",
      "Epoch 4/10\n",
      "2557172/2557172 [==============================] - 155s 61us/step - loss: 0.0353 - acc: 0.9865 - val_loss: 0.0363 - val_acc: 0.9862\n",
      "Epoch 5/10\n",
      "2557172/2557172 [==============================] - 154s 60us/step - loss: 0.0335 - acc: 0.9872 - val_loss: 0.0358 - val_acc: 0.9865\n",
      "Epoch 6/10\n",
      "2557172/2557172 [==============================] - 151s 59us/step - loss: 0.0319 - acc: 0.9877 - val_loss: 0.0358 - val_acc: 0.9866\n",
      "Epoch 7/10\n",
      "2557172/2557172 [==============================] - 151s 59us/step - loss: 0.0304 - acc: 0.9882 - val_loss: 0.0339 - val_acc: 0.9871\n",
      "Epoch 8/10\n",
      "2557172/2557172 [==============================] - 154s 60us/step - loss: 0.0291 - acc: 0.9886 - val_loss: 0.0344 - val_acc: 0.9871\n",
      "Epoch 9/10\n",
      "2557172/2557172 [==============================] - 156s 61us/step - loss: 0.0278 - acc: 0.9891 - val_loss: 0.0340 - val_acc: 0.9875\n",
      "Epoch 10/10\n",
      "2557172/2557172 [==============================] - 156s 61us/step - loss: 0.0268 - acc: 0.9894 - val_loss: 0.0335 - val_acc: 0.9876\n"
     ]
    },
    {
     "data": {
      "text/plain": [
       "<keras.callbacks.History at 0x12b14042c88>"
      ]
     },
     "execution_count": 15,
     "metadata": {
      "tags": []
     },
     "output_type": "execute_result"
    }
   ],
   "source": [
    "from keras.layers import Input, Dense\n",
    "from keras.models import Model\n",
    "main_input = Input(shape=(36,), name='image1_2_scores')\n",
    "\n",
    "x = Dense(1024, activation='relu')(main_input)\n",
    "x = Dense(256, activation='relu')(x)\n",
    "x = Dense(64, activation='relu')(x)\n",
    "\n",
    "# And finally we add the main logistic regression layer\n",
    "main_output = Dense(1, activation='sigmoid', name='main_output')(x)\n",
    "\n",
    "model = Model(inputs=[main_input], outputs=[main_output])\n",
    "\n",
    "model.compile(optimizer='adam', loss='binary_crossentropy', metrics=['accuracy'])\n",
    "model.fit([xtrain_2], ytrain_2, epochs=10, batch_size=1000, validation_data=([xtest_2], ytest_2))"
   ]
  },
  {
   "cell_type": "markdown",
   "metadata": {},
   "source": [
    "With this method, we obtained an even better performance: 0.9894 on the train dataset and 0.9876 on the test.\n",
    "\n",
    "But, we know that mean and standard deviation are sensitive to outliers. Moreover, we have noticed that not all input features are gaussian distributed, and for non gaussian distribution, this technique does not retain the input distribution at the output."
   ]
  },
  {
   "cell_type": "code",
   "execution_count": 0,
   "metadata": {
    "ExecuteTime": {
     "end_time": "2019-01-18T20:14:54.801469Z",
     "start_time": "2019-01-18T20:14:54.429240Z"
    },
    "colab": {},
    "colab_type": "code",
    "id": "XBoserUDF6hV",
    "outputId": "57d8ec1e-d708-40ad-c30c-6ac19b57430d"
   },
   "outputs": [
    {
     "data": {
      "text/plain": [
       "['model_nn_simple_Scaled.sav']"
      ]
     },
     "execution_count": 16,
     "metadata": {
      "tags": []
     },
     "output_type": "execute_result"
    }
   ],
   "source": [
    "from sklearn.externals import joblib\n",
    "\n",
    "# save the model to disk\n",
    "filename = 'model_nn_simple_Scaled.sav'\n",
    "joblib.dump(model, filename)"
   ]
  },
  {
   "cell_type": "markdown",
   "metadata": {
    "colab_type": "text",
    "id": "O8lmu2uRF6hd"
   },
   "source": [
    "#### Transform the data"
   ]
  },
  {
   "cell_type": "markdown",
   "metadata": {
    "colab_type": "text",
    "id": "2rJJ5yLgF6hh"
   },
   "source": [
    "As we have seen above in the data exploration, some used features are highly correlation and we have found nearly 9 eigenvalues almost null on the correlation matrix.\n",
    "\n",
    "In this case, to reduce dimensiality but also combine features, we use PCA method:"
   ]
  },
  {
   "cell_type": "markdown",
   "metadata": {
    "colab_type": "text",
    "id": "0hm6sK9yF6hj"
   },
   "source": [
    "**Dimensiality reduction: PCA**"
   ]
  },
  {
   "cell_type": "code",
   "execution_count": 0,
   "metadata": {
    "ExecuteTime": {
     "end_time": "2019-01-18T20:18:13.353765Z",
     "start_time": "2019-01-18T20:18:13.345820Z"
    },
    "colab": {},
    "colab_type": "code",
    "id": "MF_LGOSdF6hj"
   },
   "outputs": [],
   "source": [
    "def applyPCA(df, n):\n",
    "    from sklearn.decomposition import PCA\n",
    "    pca = PCA(n_components=n, svd_solver='full')\n",
    "    df_pca = pca.fit_transform(df)\n",
    "    df_pca = pd.DataFrame(df_pca, columns=['PCA%i' % i for i in range(n)], index=df.index)\n",
    "    return df"
   ]
  },
  {
   "cell_type": "code",
   "execution_count": 0,
   "metadata": {
    "ExecuteTime": {
     "end_time": "2019-01-18T20:18:27.794698Z",
     "start_time": "2019-01-18T20:18:15.477092Z"
    },
    "colab": {},
    "colab_type": "code",
    "id": "Y3m_37BIF6hm"
   },
   "outputs": [],
   "source": [
    "# Apply PCA on training dataset\n",
    "train_pca = applyPCA(train_scaled, 25)"
   ]
  },
  {
   "cell_type": "code",
   "execution_count": 0,
   "metadata": {
    "ExecuteTime": {
     "end_time": "2019-01-18T20:18:35.570365Z",
     "start_time": "2019-01-18T20:18:30.775144Z"
    },
    "colab": {},
    "colab_type": "code",
    "id": "-mE8n5rYF6hr"
   },
   "outputs": [],
   "source": [
    "## Split data on 80% training and 20% testing\n",
    "from sklearn.model_selection import train_test_split\n",
    "xtrain_3, xtest_3, ytrain_3, ytest_3 = train_test_split(train_pca, ytrain, test_size=0.2, random_state = 100)"
   ]
  },
  {
   "cell_type": "markdown",
   "metadata": {},
   "source": [
    "Let's run the transformed dataset on a straightforward neural network:"
   ]
  },
  {
   "cell_type": "code",
   "execution_count": 0,
   "metadata": {
    "ExecuteTime": {
     "end_time": "2019-01-18T20:47:54.943027Z",
     "start_time": "2019-01-18T20:18:40.426287Z"
    },
    "colab": {},
    "colab_type": "code",
    "id": "8t-UiK_8F6ht",
    "outputId": "8ad877f2-9e64-4194-ba79-1b2a20c65c3b"
   },
   "outputs": [
    {
     "name": "stderr",
     "output_type": "stream",
     "text": [
      "Using TensorFlow backend.\n"
     ]
    },
    {
     "name": "stdout",
     "output_type": "stream",
     "text": [
      "Train on 2557172 samples, validate on 639293 samples\n",
      "Epoch 1/10\n",
      "2557172/2557172 [==============================] - 171s 67us/step - loss: 0.0519 - acc: 0.9809 - val_loss: 0.0428 - val_acc: 0.9841\n",
      "Epoch 2/10\n",
      "2557172/2557172 [==============================] - 171s 67us/step - loss: 0.0409 - acc: 0.9846 - val_loss: 0.0397 - val_acc: 0.9851\n",
      "Epoch 3/10\n",
      "2557172/2557172 [==============================] - 173s 67us/step - loss: 0.0376 - acc: 0.9857 - val_loss: 0.0374 - val_acc: 0.9858\n",
      "Epoch 4/10\n",
      "2557172/2557172 [==============================] - 174s 68us/step - loss: 0.0354 - acc: 0.9865 - val_loss: 0.0365 - val_acc: 0.9863\n",
      "Epoch 5/10\n",
      "2557172/2557172 [==============================] - 174s 68us/step - loss: 0.0335 - acc: 0.9871 - val_loss: 0.0361 - val_acc: 0.9863\n",
      "Epoch 6/10\n",
      "2557172/2557172 [==============================] - 175s 68us/step - loss: 0.0319 - acc: 0.9877 - val_loss: 0.0353 - val_acc: 0.9867\n",
      "Epoch 7/10\n",
      "2557172/2557172 [==============================] - 173s 68us/step - loss: 0.0306 - acc: 0.9881 - val_loss: 0.0349 - val_acc: 0.9869\n",
      "Epoch 8/10\n",
      "2557172/2557172 [==============================] - 174s 68us/step - loss: 0.0292 - acc: 0.9886 - val_loss: 0.0350 - val_acc: 0.9870\n",
      "Epoch 9/10\n",
      "2557172/2557172 [==============================] - 175s 69us/step - loss: 0.0281 - acc: 0.9890 - val_loss: 0.0332 - val_acc: 0.9877\n",
      "Epoch 10/10\n",
      "2557172/2557172 [==============================] - 175s 68us/step - loss: 0.0270 - acc: 0.9894 - val_loss: 0.0331 - val_acc: 0.9878\n"
     ]
    },
    {
     "data": {
      "text/plain": [
       "<keras.callbacks.History at 0x28c3e2008d0>"
      ]
     },
     "execution_count": 8,
     "metadata": {
      "tags": []
     },
     "output_type": "execute_result"
    }
   ],
   "source": [
    "from keras.layers import Input, Dense\n",
    "from keras.models import Model\n",
    "main_input = Input(shape=(36,), name='image1_2_scores')\n",
    "\n",
    "x = Dense(1024, activation='relu')(main_input)\n",
    "x = Dense(256, activation='relu')(x)\n",
    "x = Dense(64, activation='relu')(x)\n",
    "\n",
    "# And finally we add the main logistic regression layer\n",
    "main_output = Dense(1, activation='sigmoid', name='main_output')(x)\n",
    "\n",
    "model = Model(inputs=[main_input], outputs=[main_output])\n",
    "\n",
    "model.compile(optimizer='adam', loss='binary_crossentropy', metrics=['accuracy'])\n",
    "model.fit([xtrain_3], ytrain_3, epochs=10, batch_size=1000, validation_data=([xtest_3], ytest_3))"
   ]
  },
  {
   "cell_type": "markdown",
   "metadata": {},
   "source": [
    "We obtained with PCA good performance results but as high as with the standard rescaling: 0.9894 on the train and 0.9878 on the test."
   ]
  },
  {
   "cell_type": "code",
   "execution_count": 0,
   "metadata": {
    "ExecuteTime": {
     "end_time": "2019-01-18T20:48:01.610546Z",
     "start_time": "2019-01-18T20:48:01.382391Z"
    },
    "colab": {},
    "colab_type": "code",
    "id": "HDIPjwA4F6hz",
    "outputId": "7fbb1c3a-af37-4272-daf7-bcce0f3fa2a2"
   },
   "outputs": [
    {
     "data": {
      "text/plain": [
       "['model_nn_simple_PCA.sav']"
      ]
     },
     "execution_count": 9,
     "metadata": {
      "tags": []
     },
     "output_type": "execute_result"
    }
   ],
   "source": [
    "from sklearn.externals import joblib\n",
    "\n",
    "# save the model to disk\n",
    "filename = 'model_nn_simple_PCA.sav'\n",
    "joblib.dump(model, filename)"
   ]
  },
  {
   "cell_type": "markdown",
   "metadata": {
    "colab_type": "text",
    "id": "_9IBi-PcF6h3"
   },
   "source": [
    "**Transformation based on data distribution**"
   ]
  },
  {
   "cell_type": "markdown",
   "metadata": {
    "colab_type": "text",
    "id": "DEif5esLF6h4"
   },
   "source": [
    "As we ploted the distribution of features values, we noticed 3 things:\n",
    "    \n",
    "   1- Some features follow a gaussian distribution\n",
    "   \n",
    "   2- Features with exponential distribution: ['fA4', 'fB4', 's3']\n",
    "   \n",
    "   3- Features that can be considered as discrete: ['fA2',  'fA3', 'fA5', 'fA6', 'fA7', 'fA9', 'fB9', 'fB2', 'fB3', 'fB5', 'fB6', 'fB7']\n",
    "\n",
    "If we take into account these points, we can transform the data by:\n",
    "  - Applying a logarithm on the exponential features\n",
    "  - Discretizing the ones that can be considered as categorical "
   ]
  },
  {
   "cell_type": "code",
   "execution_count": 6,
   "metadata": {
    "ExecuteTime": {
     "end_time": "2019-01-20T17:00:59.848141Z",
     "start_time": "2019-01-20T17:00:59.843152Z"
    },
    "colab": {},
    "colab_type": "code",
    "id": "d6TKOmfUF6h5"
   },
   "outputs": [],
   "source": [
    "# Apply a logarithm on features\n",
    "def applyLog(df, columns):\n",
    "    new_df = df.copy()\n",
    "    for col in columns:\n",
    "        minimum = min(df[col])\n",
    "        if minimum < 0:\n",
    "            new_df[col] = np.log(abs(round(minimum)) + 1 + df['fA4'])\n",
    "        else:\n",
    "            new_df[col] = np.log(df[col])\n",
    "    return new_df"
   ]
  },
  {
   "cell_type": "code",
   "execution_count": 21,
   "metadata": {
    "ExecuteTime": {
     "end_time": "2019-01-18T20:50:23.379618Z",
     "start_time": "2019-01-18T20:50:21.426173Z"
    },
    "colab": {},
    "colab_type": "code",
    "id": "BbgKnftpF6h7"
   },
   "outputs": [],
   "source": [
    "train_log = applyLog(xtrain, ['fA4', 'fB4', 's3'])"
   ]
  },
  {
   "cell_type": "code",
   "execution_count": 7,
   "metadata": {
    "ExecuteTime": {
     "end_time": "2019-01-20T17:01:15.232999Z",
     "start_time": "2019-01-20T17:01:15.228012Z"
    },
    "colab": {},
    "colab_type": "code",
    "id": "htv_IXUvF6h-"
   },
   "outputs": [],
   "source": [
    "# Discretize\n",
    "def applyDiscretizer(df, columns):\n",
    "    new_df = df.copy()\n",
    "    for col in columns:\n",
    "        from sklearn.preprocessing import KBinsDiscretizer\n",
    "        # transform the dataset with KBinsDiscretizer\n",
    "        bins = len(set(np.histogram(df[col], bins='auto')[0]))\n",
    "        if bins > 1:\n",
    "            enc = KBinsDiscretizer(n_bins=bins, encode='ordinal', strategy='uniform')\n",
    "            new_df[col] = enc.fit_transform(np.array(df[col]).reshape(-1,1))\n",
    "    return new_df"
   ]
  },
  {
   "cell_type": "code",
   "execution_count": 22,
   "metadata": {
    "ExecuteTime": {
     "end_time": "2019-01-18T20:52:44.316036Z",
     "start_time": "2019-01-18T20:52:30.969118Z"
    },
    "colab": {},
    "colab_type": "code",
    "id": "fbfPZuazF6iC"
   },
   "outputs": [],
   "source": [
    "cols = ['fA2',  'fA3', 'fA5', 'fA6', 'fA7', 'fA9', 'fB9', 'fB2', 'fB3', 'fB5', 'fB6', 'fB7']\n",
    "xtrain_disc = applyDiscretizer(train_log, cols)"
   ]
  },
  {
   "cell_type": "code",
   "execution_count": 23,
   "metadata": {
    "ExecuteTime": {
     "end_time": "2019-01-18T20:53:28.018011Z",
     "start_time": "2019-01-18T20:53:23.370375Z"
    },
    "colab": {},
    "colab_type": "code",
    "id": "ftjaegfGF6iF"
   },
   "outputs": [],
   "source": [
    "## Split data on 80% training and 20% testing\n",
    "from sklearn.model_selection import train_test_split\n",
    "xtrain_4, xtest_4, ytrain_4, ytest_4 = train_test_split(xtrain_disc, ytrain, test_size=0.2, random_state = 100)"
   ]
  },
  {
   "cell_type": "markdown",
   "metadata": {},
   "source": [
    "Let's see the output performance on the neural network:"
   ]
  },
  {
   "cell_type": "code",
   "execution_count": 0,
   "metadata": {
    "ExecuteTime": {
     "end_time": "2019-01-18T21:21:25.559000Z",
     "start_time": "2019-01-18T20:54:00.440412Z"
    },
    "colab": {},
    "colab_type": "code",
    "id": "-3E0C1wlF6iK",
    "outputId": "9e8c5379-8c19-4f5e-eaf6-628445e6cb29"
   },
   "outputs": [
    {
     "name": "stdout",
     "output_type": "stream",
     "text": [
      "Train on 2557172 samples, validate on 639293 samples\n",
      "Epoch 1/10\n",
      "2557172/2557172 [==============================] - 172s 67us/step - loss: 4.6033 - acc: 0.7144 - val_loss: 4.6149 - val_acc: 0.7137\n",
      "Epoch 2/10\n",
      "2557172/2557172 [==============================] - 172s 67us/step - loss: 4.6031 - acc: 0.7144 - val_loss: 4.6149 - val_acc: 0.7137\n",
      "Epoch 3/10\n",
      "2557172/2557172 [==============================] - 172s 67us/step - loss: 4.6031 - acc: 0.7144 - val_loss: 4.6149 - val_acc: 0.7137\n",
      "Epoch 4/10\n",
      "2557172/2557172 [==============================] - 171s 67us/step - loss: 4.6031 - acc: 0.7144 - val_loss: 4.6149 - val_acc: 0.7137\n",
      "Epoch 5/10\n",
      "2557172/2557172 [==============================] - 173s 68us/step - loss: 4.6031 - acc: 0.7144 - val_loss: 4.6149 - val_acc: 0.7137\n",
      "Epoch 6/10\n",
      "2557172/2557172 [==============================] - 160s 63us/step - loss: 4.6031 - acc: 0.7144 - val_loss: 4.6149 - val_acc: 0.7137\n",
      "Epoch 7/10\n",
      "2557172/2557172 [==============================] - 155s 61us/step - loss: 4.6031 - acc: 0.7144 - val_loss: 4.6149 - val_acc: 0.7137\n",
      "Epoch 8/10\n",
      "2557172/2557172 [==============================] - 155s 61us/step - loss: 4.6031 - acc: 0.7144 - val_loss: 4.6149 - val_acc: 0.7137\n",
      "Epoch 9/10\n",
      "2557172/2557172 [==============================] - 156s 61us/step - loss: 4.6031 - acc: 0.7144 - val_loss: 4.6149 - val_acc: 0.7137\n",
      "Epoch 10/10\n",
      "2557172/2557172 [==============================] - 156s 61us/step - loss: 4.6031 - acc: 0.7144 - val_loss: 4.6149 - val_acc: 0.7137\n"
     ]
    },
    {
     "data": {
      "text/plain": [
       "<keras.callbacks.History at 0x28c40214550>"
      ]
     },
     "execution_count": 22,
     "metadata": {
      "tags": []
     },
     "output_type": "execute_result"
    }
   ],
   "source": [
    "from keras.layers import Input, Dense\n",
    "from keras.models import Model\n",
    "main_input = Input(shape=(36,), name='image1_2_scores')\n",
    "\n",
    "x = Dense(1024, activation='relu')(main_input)\n",
    "x = Dense(256, activation='relu')(x)\n",
    "x = Dense(64, activation='relu')(x)\n",
    "\n",
    "# And finally we add the main logistic regression layer\n",
    "main_output = Dense(1, activation='sigmoid', name='main_output')(x)\n",
    "\n",
    "model = Model(inputs=[main_input], outputs=[main_output])\n",
    "\n",
    "model.compile(optimizer='adam', loss='binary_crossentropy', metrics=['accuracy'])\n",
    "model.fit([xtrain_4], ytrain_4, epochs=10, batch_size=1000, validation_data=([xtest_4], ytest_4))"
   ]
  },
  {
   "cell_type": "markdown",
   "metadata": {},
   "source": [
    "In this case, we did not rescale the data before applying the transformations.\n",
    "\n",
    "The algorithm did not perform as with the rescaling but outperformed before the transformation 0.7144 > 0.7143."
   ]
  },
  {
   "cell_type": "code",
   "execution_count": 0,
   "metadata": {
    "ExecuteTime": {
     "end_time": "2019-01-18T21:21:28.561093Z",
     "start_time": "2019-01-18T21:21:28.414858Z"
    },
    "colab": {},
    "colab_type": "code",
    "id": "hvWti6DyF6iO",
    "outputId": "c827eb66-7055-43fa-df78-6f4b21281c2e"
   },
   "outputs": [
    {
     "data": {
      "text/plain": [
       "['model_nn_simple_log_disc.sav']"
      ]
     },
     "execution_count": 23,
     "metadata": {
      "tags": []
     },
     "output_type": "execute_result"
    }
   ],
   "source": [
    "from sklearn.externals import joblib\n",
    "\n",
    "# save the model to disk\n",
    "filename = 'model_nn_simple_log_disc.sav'\n",
    "joblib.dump(model, filename)"
   ]
  },
  {
   "cell_type": "markdown",
   "metadata": {},
   "source": [
    "Let's try combining rescaling and transformation:"
   ]
  },
  {
   "cell_type": "markdown",
   "metadata": {
    "colab_type": "text",
    "id": "wlbLKGo_F6iW"
   },
   "source": [
    "#### Combine Scaling and Transformation"
   ]
  },
  {
   "cell_type": "code",
   "execution_count": 9,
   "metadata": {
    "ExecuteTime": {
     "end_time": "2019-01-20T17:01:42.253746Z",
     "start_time": "2019-01-20T17:01:34.646124Z"
    },
    "colab": {},
    "colab_type": "code",
    "id": "OHX6I4MDF6iX"
   },
   "outputs": [],
   "source": [
    "train_log_scaled = applyLog(train_scaled, ['fA4', 'fB4', 's3'])\n",
    "cols = ['fA2',  'fA3', 'fA5', 'fA6', 'fA7', 'fA9', 'fB9', 'fB2', 'fB3', 'fB5', 'fB6', 'fB7']\n",
    "train_disc_scaled = applyDiscretizer(train_log_scaled, cols)"
   ]
  },
  {
   "cell_type": "code",
   "execution_count": 0,
   "metadata": {
    "ExecuteTime": {
     "end_time": "2019-01-18T21:31:11.894598Z",
     "start_time": "2019-01-18T21:31:09.179150Z"
    },
    "colab": {},
    "colab_type": "code",
    "id": "aKZuKyfJF6iZ"
   },
   "outputs": [],
   "source": [
    "## Split data on 80% training and 20% testing\n",
    "from sklearn.model_selection import train_test_split\n",
    "xtrain_5, xtest_5, ytrain_5, ytest_5 = train_test_split(train_disc_scaled, ytrain, test_size=0.2, random_state = 100)"
   ]
  },
  {
   "cell_type": "code",
   "execution_count": 0,
   "metadata": {
    "ExecuteTime": {
     "end_time": "2019-01-18T21:56:41.184388Z",
     "start_time": "2019-01-18T21:31:13.536159Z"
    },
    "colab": {},
    "colab_type": "code",
    "id": "jSG3dcrAF6ib",
    "outputId": "6df08a29-2bb7-49fd-9f55-9324e2419e6d"
   },
   "outputs": [
    {
     "name": "stderr",
     "output_type": "stream",
     "text": [
      "Using TensorFlow backend.\n"
     ]
    },
    {
     "name": "stdout",
     "output_type": "stream",
     "text": [
      "Train on 2557172 samples, validate on 639293 samples\n",
      "Epoch 1/10\n",
      "2557172/2557172 [==============================] - 140s 55us/step - loss: 0.0898 - acc: 0.9695 - val_loss: 0.0632 - val_acc: 0.9774\n",
      "Epoch 2/10\n",
      "2557172/2557172 [==============================] - 155s 61us/step - loss: 0.0588 - acc: 0.9788 - val_loss: 0.0586 - val_acc: 0.9784\n",
      "Epoch 3/10\n",
      "2557172/2557172 [==============================] - 159s 62us/step - loss: 0.0529 - acc: 0.9807 - val_loss: 0.0508 - val_acc: 0.9815\n",
      "Epoch 4/10\n",
      "2557172/2557172 [==============================] - 150s 59us/step - loss: 0.0503 - acc: 0.9815 - val_loss: 0.0491 - val_acc: 0.9822\n",
      "Epoch 5/10\n",
      "2557172/2557172 [==============================] - 153s 60us/step - loss: 0.0483 - acc: 0.9822 - val_loss: 0.0494 - val_acc: 0.9817\n",
      "Epoch 6/10\n",
      "2557172/2557172 [==============================] - 155s 60us/step - loss: 0.0470 - acc: 0.9825 - val_loss: 0.0483 - val_acc: 0.9820\n",
      "Epoch 7/10\n",
      "2557172/2557172 [==============================] - 152s 59us/step - loss: 0.0459 - acc: 0.9829 - val_loss: 0.0478 - val_acc: 0.9824\n",
      "Epoch 8/10\n",
      "2557172/2557172 [==============================] - 151s 59us/step - loss: 0.0450 - acc: 0.9832 - val_loss: 0.0464 - val_acc: 0.9826\n",
      "Epoch 9/10\n",
      "2557172/2557172 [==============================] - 152s 59us/step - loss: 0.0442 - acc: 0.9835 - val_loss: 0.0444 - val_acc: 0.9836\n",
      "Epoch 10/10\n",
      "2557172/2557172 [==============================] - 153s 60us/step - loss: 0.0435 - acc: 0.9837 - val_loss: 0.0440 - val_acc: 0.9836\n"
     ]
    },
    {
     "data": {
      "text/plain": [
       "<keras.callbacks.History at 0x2272261f5f8>"
      ]
     },
     "execution_count": 13,
     "metadata": {
      "tags": []
     },
     "output_type": "execute_result"
    }
   ],
   "source": [
    "from keras.layers import Input, Dense\n",
    "from keras.models import Model\n",
    "main_input = Input(shape=(36,), name='image1_2_scores')\n",
    "\n",
    "x = Dense(1024, activation='relu')(main_input)\n",
    "x = Dense(256, activation='relu')(x)\n",
    "x = Dense(64, activation='relu')(x)\n",
    "\n",
    "# And finally we add the main logistic regression layer\n",
    "main_output = Dense(1, activation='sigmoid', name='main_output')(x)\n",
    "\n",
    "model = Model(inputs=[main_input], outputs=[main_output])\n",
    "\n",
    "model.compile(optimizer='adam', loss='binary_crossentropy', metrics=['accuracy'])\n",
    "model.fit([xtrain_5], ytrain_5, epochs=10, batch_size=1000, validation_data=([xtest_5], ytest_5))"
   ]
  },
  {
   "cell_type": "markdown",
   "metadata": {},
   "source": [
    "This algorithm did not perform as much as with the rescaling alone. But, it reduced the factor of overfitting."
   ]
  },
  {
   "cell_type": "code",
   "execution_count": 0,
   "metadata": {
    "ExecuteTime": {
     "end_time": "2019-01-18T21:57:56.769040Z",
     "start_time": "2019-01-18T21:57:56.672293Z"
    },
    "colab": {},
    "colab_type": "code",
    "id": "RaH_UG99F6ie",
    "outputId": "4bbb95cd-618d-4e75-80d6-f481188c6245"
   },
   "outputs": [
    {
     "data": {
      "text/plain": [
       "['model_nn_simple_log_disc_scaled.sav']"
      ]
     },
     "execution_count": 14,
     "metadata": {
      "tags": []
     },
     "output_type": "execute_result"
    }
   ],
   "source": [
    "from sklearn.externals import joblib\n",
    "\n",
    "# save the model to disk\n",
    "filename = 'model_nn_simple_log_disc_scaled.sav'\n",
    "joblib.dump(model, filename)"
   ]
  },
  {
   "cell_type": "markdown",
   "metadata": {
    "colab_type": "text",
    "id": "5F9QCQt3F6ii"
   },
   "source": [
    "**Introduce OneHotEncoding on discrete features**"
   ]
  },
  {
   "cell_type": "markdown",
   "metadata": {},
   "source": [
    "Now that we have some discrete features, we can try out onehotenconding them to have their values between 0 and 1.\n",
    " and with this  model, we do not assume a natural ordering between categories. "
   ]
  },
  {
   "cell_type": "code",
   "execution_count": 8,
   "metadata": {
    "ExecuteTime": {
     "end_time": "2019-01-20T17:01:24.299794Z",
     "start_time": "2019-01-20T17:01:24.295765Z"
    },
    "colab": {},
    "colab_type": "code",
    "id": "KFh3_2X0F6ii"
   },
   "outputs": [],
   "source": [
    "def oneHotEncode(df):\n",
    "    from sklearn.preprocessing import OneHotEncoder\n",
    "    enc = OneHotEncoder(categories='auto', handle_unknown='ignore')\n",
    "    enc.fit(df)\n",
    "    cat = enc.transform(df)\n",
    "    return cat, enc"
   ]
  },
  {
   "cell_type": "code",
   "execution_count": 10,
   "metadata": {
    "ExecuteTime": {
     "end_time": "2019-01-20T17:02:05.741936Z",
     "start_time": "2019-01-20T17:01:55.944136Z"
    },
    "colab": {},
    "colab_type": "code",
    "id": "AOVNAjeDF6il"
   },
   "outputs": [],
   "source": [
    "# One hot encode columns\n",
    "cols = ['fA2',  'fA3', 'fA5', 'fA6', 'fA7', 'fA9', 'fB9', 'fB2', 'fB3', 'fB5', 'fB6', 'fB7']\n",
    "train_cat, enc = oneHotEncode(train_disc_scaled[cols])"
   ]
  },
  {
   "cell_type": "code",
   "execution_count": 11,
   "metadata": {
    "ExecuteTime": {
     "end_time": "2019-01-20T17:02:09.051084Z",
     "start_time": "2019-01-20T17:02:09.026152Z"
    },
    "colab": {},
    "colab_type": "code",
    "id": "yrz9giQnF6in",
    "outputId": "988bce5e-2f00-4a2d-c8c9-86611f716d12"
   },
   "outputs": [
    {
     "name": "stdout",
     "output_type": "stream",
     "text": [
      "img1: 324\n",
      "img2: 280\n"
     ]
    }
   ],
   "source": [
    "# See how many categories were found on image 1 and image 2\n",
    "i = 0\n",
    "img1 = 0\n",
    "img2 = 0\n",
    "for categ in enc.categories_:\n",
    "    if i < 6:\n",
    "        img1 = img1 + len(categ)\n",
    "    else:\n",
    "        img2 = img2 + len(categ)\n",
    "    i+=1\n",
    "\n",
    "print('img1:', img1)\n",
    "print('img2:', img2)"
   ]
  },
  {
   "cell_type": "code",
   "execution_count": 12,
   "metadata": {
    "ExecuteTime": {
     "end_time": "2019-01-20T17:02:14.096592Z",
     "start_time": "2019-01-20T17:02:13.643807Z"
    },
    "colab": {},
    "colab_type": "code",
    "id": "SCUyuVeiF6iw"
   },
   "outputs": [],
   "source": [
    "train_cols_to_keep = train_disc_scaled.loc[:, ~train_disc_scaled.columns.isin(cols)]"
   ]
  },
  {
   "cell_type": "code",
   "execution_count": null,
   "metadata": {
    "ExecuteTime": {
     "start_time": "2019-01-20T17:03:16.102Z"
    }
   },
   "outputs": [],
   "source": [
    "# Concatenate with other features\n",
    "from scipy.sparse import csr_matrix, hstack\n",
    "train_concat = hstack([train_cols_to_keep.iloc[:,:8],train_cat[:,:img1],train_cols_to_keep.iloc[:,8:16], train_cat[:,img1:img1+img2], train_cols_to_keep.iloc[:,16:]])"
   ]
  },
  {
   "cell_type": "code",
   "execution_count": 18,
   "metadata": {
    "ExecuteTime": {
     "end_time": "2019-01-18T22:10:59.614268Z",
     "start_time": "2019-01-18T22:10:59.531411Z"
    },
    "colab": {},
    "colab_type": "code",
    "id": "VQVgudQiF6i2",
    "outputId": "9988681e-358f-4d75-dee2-63cc5063cff1"
   },
   "outputs": [
    {
     "data": {
      "text/plain": [
       "628"
      ]
     },
     "execution_count": 18,
     "metadata": {},
     "output_type": "execute_result"
    }
   ],
   "source": [
    "train_concat.shape[1]"
   ]
  },
  {
   "cell_type": "code",
   "execution_count": 15,
   "metadata": {},
   "outputs": [],
   "source": [
    "## Split data on 80% training and 20% testing\n",
    "from sklearn.model_selection import train_test_split\n",
    "xtrain_6, xtest_6, ytrain_6, ytest_6 = train_test_split(train_concat, ytrain, test_size=0.2, random_state = 100)"
   ]
  },
  {
   "cell_type": "code",
   "execution_count": 3,
   "metadata": {
    "ExecuteTime": {
     "end_time": "2019-01-20T21:53:17.325020Z",
     "start_time": "2019-01-20T21:53:13.254905Z"
    }
   },
   "outputs": [
    {
     "name": "stderr",
     "output_type": "stream",
     "text": [
      "Using TensorFlow backend.\n"
     ]
    }
   ],
   "source": [
    "from keras.layers import Input, Dense\n",
    "from keras.models import Model\n",
    "main_input = Input(shape=(628,), name='image1_2_scores')\n",
    "\n",
    "x = Dense(1024, activation='relu')(main_input)\n",
    "x = Dense(256, activation='relu')(x)\n",
    "x = Dense(64, activation='relu')(x)\n",
    "\n",
    "# And finally we add the main logistic regression layer\n",
    "main_output = Dense(1, activation='sigmoid', name='main_output')(x)\n",
    "\n",
    "model = Model(inputs=[main_input], outputs=[main_output])\n"
   ]
  },
  {
   "cell_type": "code",
   "execution_count": 6,
   "metadata": {
    "ExecuteTime": {
     "end_time": "2019-01-20T21:53:48.787884Z",
     "start_time": "2019-01-20T21:53:48.614349Z"
    }
   },
   "outputs": [],
   "source": [
    "from keras.utils import plot_model\n",
    "plot_model(model, to_file='model_plot_nn_simple.png', show_shapes=True, show_layer_names=True)"
   ]
  },
  {
   "cell_type": "code",
   "execution_count": 7,
   "metadata": {
    "ExecuteTime": {
     "end_time": "2019-01-20T21:54:17.480160Z",
     "start_time": "2019-01-20T21:54:17.471196Z"
    }
   },
   "outputs": [
    {
     "data": {
      "image/png": "[encoded data removed]",
      "text/plain": [
       "<IPython.core.display.Image object>"
      ]
     },
     "execution_count": 7,
     "metadata": {},
     "output_type": "execute_result"
    }
   ],
   "source": [
    "from IPython.display import Image\n",
    "Image(\"model_plot_nn_simple.png\")"
   ]
  },
  {
   "cell_type": "code",
   "execution_count": null,
   "metadata": {},
   "outputs": [],
   "source": [
    "model.compile(optimizer='adam', loss='binary_crossentropy', metrics=['accuracy'])\n",
    "model.fit([xtrain_6], ytrain_6, epochs=10, batch_size=1000, validation_data=([xtest_6], ytest_6))"
   ]
  },
  {
   "cell_type": "markdown",
   "metadata": {},
   "source": [
    "This methods reduces overfitting and produces good results with a simple architecure. Let's try to run it on a more complex one."
   ]
  },
  {
   "cell_type": "markdown",
   "metadata": {},
   "source": [
    "### Amelioration with algorithms"
   ]
  },
  {
   "cell_type": "markdown",
   "metadata": {},
   "source": [
    " In this section, we will try out another architecture of the neural network that gives a better interpertation the features:\n",
    " - Train image 1 features\n",
    " - Train image 2 features\n",
    " - Concatenate the two parts and train them\n",
    " - Train the scores\n",
    " - Concatenate with the above and train"
   ]
  },
  {
   "cell_type": "markdown",
   "metadata": {},
   "source": [
    "We start by applying rescaling, logarithm transformation, discretization and one hot encoding on the dataset:"
   ]
  },
  {
   "cell_type": "code",
   "execution_count": 12,
   "metadata": {},
   "outputs": [],
   "source": [
    "# Rescale the dataset\n",
    "df_scaled = rescale(df)"
   ]
  },
  {
   "cell_type": "code",
   "execution_count": 13,
   "metadata": {},
   "outputs": [],
   "source": [
    "# Transform the dataset \n",
    "df_log_scaled = applyLog(df_scaled, ['fA4', 'fB4', 's3'])\n",
    "cols = ['fA2',  'fA3', 'fA5', 'fA6', 'fA7', 'fA9', 'fB9', 'fB2', 'fB3', 'fB5', 'fB6', 'fB7']\n",
    "df_disc_scaled = applyDiscretizer(df_log_scaled, cols)"
   ]
  },
  {
   "cell_type": "code",
   "execution_count": 14,
   "metadata": {},
   "outputs": [],
   "source": [
    "# One hot encoding\n",
    "cols = ['fA2',  'fA3', 'fA5', 'fA6', 'fA7', 'fA9', 'fB9', 'fB2', 'fB3', 'fB5', 'fB6', 'fB7']\n",
    "df_cat, enc = oneHotEncode(df_disc_scaled[cols])"
   ]
  },
  {
   "cell_type": "code",
   "execution_count": 15,
   "metadata": {},
   "outputs": [
    {
     "name": "stdout",
     "output_type": "stream",
     "text": [
      "img1: 325\n",
      "img2: 286\n"
     ]
    }
   ],
   "source": [
    "# See how many categories were found on image 1 and image 2\n",
    "i = 0\n",
    "img1 = 0\n",
    "img2 = 0\n",
    "for categ in enc.categories_:\n",
    "    if i < 6:\n",
    "        img1 = img1 + len(categ)\n",
    "    else:\n",
    "        img2 = img2 + len(categ)\n",
    "    i+=1\n",
    "\n",
    "print('img1:', img1)\n",
    "print('img2:', img2)"
   ]
  },
  {
   "cell_type": "code",
   "execution_count": 16,
   "metadata": {},
   "outputs": [],
   "source": [
    "df_cols_to_keep = df_disc_scaled.loc[:, ~df_disc_scaled.columns.isin(cols)]"
   ]
  },
  {
   "cell_type": "code",
   "execution_count": 17,
   "metadata": {},
   "outputs": [],
   "source": [
    "# Concatenate with other features\n",
    "from scipy.sparse import csr_matrix, hstack\n",
    "df_concat = hstack([df_cols_to_keep.iloc[:,:8],df_cat[:,:img1],df_cols_to_keep.iloc[:,8:16], df_cat[:,img1:img1+img2], df_cols_to_keep.iloc[:,16:]])"
   ]
  },
  {
   "cell_type": "code",
   "execution_count": 18,
   "metadata": {},
   "outputs": [
    {
     "data": {
      "text/plain": [
       "(4794684, 635)"
      ]
     },
     "execution_count": 18,
     "metadata": {},
     "output_type": "execute_result"
    }
   ],
   "source": [
    "df_concat.shape"
   ]
  },
  {
   "cell_type": "code",
   "execution_count": 19,
   "metadata": {},
   "outputs": [
    {
     "data": {
      "text/plain": [
       "3196465"
      ]
     },
     "execution_count": 19,
     "metadata": {},
     "output_type": "execute_result"
    }
   ],
   "source": [
    "len(xtrain)"
   ]
  },
  {
   "cell_type": "code",
   "execution_count": 21,
   "metadata": {},
   "outputs": [],
   "source": [
    "df_concat = df_concat.tocsr()"
   ]
  },
  {
   "cell_type": "code",
   "execution_count": 22,
   "metadata": {},
   "outputs": [],
   "source": [
    "df_train = df_concat[:3196465]\n",
    "df_test = df_concat[3196465:]"
   ]
  },
  {
   "cell_type": "markdown",
   "metadata": {},
   "source": [
    "We now train the resulted dataframe on the training data set using the new architecture:"
   ]
  },
  {
   "cell_type": "code",
   "execution_count": 8,
   "metadata": {
    "ExecuteTime": {
     "end_time": "2019-01-20T21:55:07.806585Z",
     "start_time": "2019-01-20T21:55:07.564231Z"
    }
   },
   "outputs": [],
   "source": [
    "from keras.layers import Input, Dense, concatenate\n",
    "from keras.layers.normalization import BatchNormalization\n",
    "from keras.models import Model\n",
    "main_input = Input(shape=(325+8,), name='image1')\n",
    "\n",
    "x = Dense(1024, activation='relu')(main_input)\n",
    "first_out = Dense(256, activation='sigmoid')(x)\n",
    "\n",
    "second_input = Input(shape=(286+8,), name='image2')\n",
    "x = Dense(1024, activation='relu')(second_input)\n",
    "second_out = Dense(256, activation='sigmoid')(x)\n",
    "\n",
    "x = concatenate([first_out, second_out])\n",
    "x = Dense(1024, activation='relu')(x)\n",
    "third_out = Dense(256, activation='sigmoid')(x)\n",
    "\n",
    "x1 = Input(shape=(8,), name='scores1')\n",
    "s1 = Dense(256, activation='relu')(x1)\n",
    "s1 = concatenate([third_out, s1])\n",
    "s1 = Dense(1024, activation='relu')(s1)\n",
    "s1 = Dense(256, activation='relu')(s1)\n",
    "\n",
    "# And finally we add the main logistic regression layer\n",
    "main_output = Dense(1, activation='sigmoid', name='main_output')(s1)\n",
    "\n",
    "model = Model(inputs=[main_input, second_input, x1], outputs=[main_output])\n"
   ]
  },
  {
   "cell_type": "code",
   "execution_count": 10,
   "metadata": {
    "ExecuteTime": {
     "end_time": "2019-01-20T21:55:16.898310Z",
     "start_time": "2019-01-20T21:55:16.619021Z"
    }
   },
   "outputs": [],
   "source": [
    "from keras.utils import plot_model\n",
    "plot_model(model, to_file='model_plot_nn_advanced.png', show_shapes=True, show_layer_names=True)"
   ]
  },
  {
   "cell_type": "code",
   "execution_count": 11,
   "metadata": {
    "ExecuteTime": {
     "end_time": "2019-01-20T21:55:28.807424Z",
     "start_time": "2019-01-20T21:55:28.780534Z"
    }
   },
   "outputs": [
    {
     "data": {
      "image/png": "[encoded data removed]",
      "text/plain": [
       "<IPython.core.display.Image object>"
      ]
     },
     "execution_count": 11,
     "metadata": {},
     "output_type": "execute_result"
    }
   ],
   "source": [
    "from IPython.display import Image\n",
    "Image(\"model_plot_nn_advanced.png\")"
   ]
  },
  {
   "cell_type": "code",
   "execution_count": null,
   "metadata": {},
   "outputs": [],
   "source": [
    "model.compile(optimizer='adam', loss='binary_crossentropy', metrics=['accuracy'])\n",
    "model.fit([df_train[:,:img1+8],df_train[:,img1+8:img1+img2+16], df_train[:,img1+img2+16:]], ytrain, epochs=100, batch_size=1000) "
   ]
  },
  {
   "cell_type": "markdown",
   "metadata": {},
   "source": [
    "With this architecture, we obtained a better result on the testing set of 0.994687840222"
   ]
  },
  {
   "cell_type": "markdown",
   "metadata": {},
   "source": [
    "### Amelioration with model combination"
   ]
  },
  {
   "cell_type": "markdown",
   "metadata": {},
   "source": [
    "In this section, we will try to test how the combination of 2 models can perfom.\n",
    "\n",
    "For this, we divide the dataset into 3 parts:\n",
    "1- The nearest neighbor to the testing data set: we will use this data to evaluate our models\n",
    "2- One part to train on the lightgbm algorithm\n",
    "3- One part to train on a neural network algorithm\n",
    "\n",
    "We then, take the mean of the equal predictions of the 2 algorithms. and see how the 2 performed on the other points.\n",
    "\n",
    "This can gives an idea on which predictions to take for the real dataset."
   ]
  },
  {
   "cell_type": "markdown",
   "metadata": {},
   "source": [
    "**Choose the evaluation set**\n",
    "\n",
    "We choose by KNN to the testing set, data from the training set for the evaluation:"
   ]
  },
  {
   "cell_type": "code",
   "execution_count": 24,
   "metadata": {},
   "outputs": [],
   "source": [
    "from sklearn.neighbors import KNeighborsClassifier\n",
    "def subset_KNN(X, y, X_test, k=1):\n",
    "    knn = KNeighborsClassifier(algorithm = 'auto', n_neighbors = k, metric='euclidean', n_jobs=-1)\n",
    "    knn.fit(X, y)\n",
    "    n_neighbor_idx = knn.kneighbors(X_test)[1]\n",
    "    n_neighbor_idx.reshape(-1, 1)\n",
    "    train_not_unique = n_neighbor_idx.reshape(-1, 1)\n",
    "    train_unique = np.unique(train_not_unique)\n",
    "    new_X = X.iloc[train_unique,:]\n",
    "    new_y = y[train_unique]\n",
    "    return (new_X, new_y, train_unique)"
   ]
  },
  {
   "cell_type": "code",
   "execution_count": 25,
   "metadata": {},
   "outputs": [],
   "source": [
    "# Find the nearest neighbors to the test set\n",
    "x_eval, y_eval, idx_eval = subset_KNN(xtrain, ytrain, xtest)"
   ]
  },
  {
   "cell_type": "code",
   "execution_count": 26,
   "metadata": {},
   "outputs": [
    {
     "data": {
      "text/plain": [
       "((1238005, 36), (1238005,))"
      ]
     },
     "execution_count": 26,
     "metadata": {},
     "output_type": "execute_result"
    }
   ],
   "source": [
    "x_eval.shape, y_eval.shape"
   ]
  },
  {
   "cell_type": "markdown",
   "metadata": {},
   "source": [
    "**Dataset for the training**\n",
    "\n",
    "The rest of the data is divided in 2 to train on lightgbm and also neural network"
   ]
  },
  {
   "cell_type": "code",
   "execution_count": 27,
   "metadata": {},
   "outputs": [],
   "source": [
    "# Other data\n",
    "x_to_stack = xtrain.loc[~xtrain.index.isin(idx_eval), ]\n",
    "y_to_stack = ytrain[~xtrain.index.isin(idx_eval)]"
   ]
  },
  {
   "cell_type": "code",
   "execution_count": 28,
   "metadata": {},
   "outputs": [],
   "source": [
    "## Split data on 80% training and 20% testing\n",
    "from sklearn.model_selection import train_test_split\n",
    "xtrain_b1, xtrain_b2, ytrain_b1, ytrain_b2 = train_test_split(x_to_stack, y_to_stack, test_size=0.5, random_state = 100)"
   ]
  },
  {
   "cell_type": "markdown",
   "metadata": {},
   "source": [
    "Let's train on the best parameters chosen for the lightgbm:"
   ]
  },
  {
   "cell_type": "code",
   "execution_count": 63,
   "metadata": {},
   "outputs": [],
   "source": [
    "# Train on the lightgbm\n",
    "import lightgbm as lgb\n",
    "\n",
    "lg = lgb.LGBMClassifier(boosting='dart',  max_depth = 25, learning_rate = 0.1, num_iterations=4000,\n",
    "              num_leaves = 3000,\n",
    "                        objective='binary', metrics='binary_error',\n",
    "n_estimators = 200, n_jobs=-1, silent=False).fit(xtrain_b1, ytrain_b1)"
   ]
  },
  {
   "cell_type": "code",
   "execution_count": 64,
   "metadata": {},
   "outputs": [
    {
     "data": {
      "text/plain": [
       "['model_lg_stacking1.sav']"
      ]
     },
     "execution_count": 64,
     "metadata": {},
     "output_type": "execute_result"
    }
   ],
   "source": [
    "from sklearn.externals import joblib\n",
    "\n",
    "# save the model to disk\n",
    "filename = 'model_lg_stacking1.sav'\n",
    "joblib.dump(lg, filename)"
   ]
  },
  {
   "cell_type": "code",
   "execution_count": 29,
   "metadata": {},
   "outputs": [],
   "source": [
    "from sklearn.externals import joblib\n",
    "model_lg_loaded = joblib.load('model_lg_stacking1.sav')"
   ]
  },
  {
   "cell_type": "code",
   "execution_count": 31,
   "metadata": {},
   "outputs": [],
   "source": [
    "# Precision of the prediction\n",
    "y_eval_pred_lg1 = model_lg_loaded.predict(x_eval)"
   ]
  },
  {
   "cell_type": "code",
   "execution_count": 32,
   "metadata": {},
   "outputs": [
    {
     "name": "stdout",
     "output_type": "stream",
     "text": [
      "The precision of lightgbm on the evaluation dataset is 0.990846563624541\n"
     ]
    }
   ],
   "source": [
    "print(\"The precision of lightgbm on the evaluation dataset is\", (y_eval_pred_lg1 == y_eval).mean())"
   ]
  },
  {
   "cell_type": "code",
   "execution_count": 34,
   "metadata": {},
   "outputs": [
    {
     "data": {
      "text/plain": [
       "array([[9.99998499e-01, 1.50122367e-06],\n",
       "       [1.00000000e+00, 5.53862337e-11],\n",
       "       [1.00000000e+00, 2.21230117e-11],\n",
       "       ...,\n",
       "       [9.99999994e-01, 6.00573890e-09],\n",
       "       [1.77163774e-08, 9.99999982e-01],\n",
       "       [4.82724971e-13, 1.00000000e+00]])"
      ]
     },
     "execution_count": 34,
     "metadata": {},
     "output_type": "execute_result"
    }
   ],
   "source": [
    "y_proba_lg1 = model_lg_loaded.predict_proba(x_eval)\n",
    "y_proba_lg1"
   ]
  },
  {
   "cell_type": "markdown",
   "metadata": {},
   "source": [
    "**Lightgbm confusion matrix**"
   ]
  },
  {
   "cell_type": "code",
   "execution_count": 35,
   "metadata": {},
   "outputs": [
    {
     "data": {
      "text/html": [
       "<div>\n",
       "<style scoped>\n",
       "    .dataframe tbody tr th:only-of-type {\n",
       "        vertical-align: middle;\n",
       "    }\n",
       "\n",
       "    .dataframe tbody tr th {\n",
       "        vertical-align: top;\n",
       "    }\n",
       "\n",
       "    .dataframe thead th {\n",
       "        text-align: right;\n",
       "    }\n",
       "</style>\n",
       "<table border=\"1\" class=\"dataframe\">\n",
       "  <thead>\n",
       "    <tr style=\"text-align: right;\">\n",
       "      <th></th>\n",
       "      <th>Predict 0</th>\n",
       "      <th>Predict 1</th>\n",
       "    </tr>\n",
       "  </thead>\n",
       "  <tbody>\n",
       "    <tr>\n",
       "      <th>Real 0</th>\n",
       "      <td>869634</td>\n",
       "      <td>2043</td>\n",
       "    </tr>\n",
       "    <tr>\n",
       "      <th>Real 1</th>\n",
       "      <td>9289</td>\n",
       "      <td>357039</td>\n",
       "    </tr>\n",
       "  </tbody>\n",
       "</table>\n",
       "</div>"
      ],
      "text/plain": [
       "        Predict 0  Predict 1\n",
       "Real 0     869634       2043\n",
       "Real 1       9289     357039"
      ]
     },
     "execution_count": 35,
     "metadata": {},
     "output_type": "execute_result"
    }
   ],
   "source": [
    "from sklearn.metrics import confusion_matrix\n",
    "pd.DataFrame(confusion_matrix(y_eval, y_eval_pred_lg1),\n",
    "            columns = [\"Predict 0\", \"Predict 1\"],\n",
    "            index = [\"Real 0\", \"Real 1\"])"
   ]
  },
  {
   "cell_type": "code",
   "execution_count": 37,
   "metadata": {},
   "outputs": [],
   "source": [
    "pd.DataFrame(x_eval).to_csv(\"x_eval.csv\")\n",
    "pd.DataFrame(y_eval).to_csv(\"y_eval.csv\")\n",
    "pd.DataFrame(y_eval_pred_lg1).to_csv(\"y_eval_pred_lg1.csv\")\n",
    "pd.DataFrame(y_proba_lg1).to_csv(\"y_proba_lg1.csv\")\n",
    "pd.DataFrame(xtrain_b2).to_csv(\"xtrain_b2.csv\")\n",
    "pd.DataFrame(ytrain_b2).to_csv(\"ytrain_b2.csv\")\n",
    "pd.DataFrame(xtrain_b1).to_csv(\"xtrain_b1.csv\")\n",
    "pd.DataFrame(ytrain_b1).to_csv(\"ytrain_b1.csv\")"
   ]
  },
  {
   "cell_type": "code",
   "execution_count": 5,
   "metadata": {
    "ExecuteTime": {
     "end_time": "2019-01-20T17:10:08.973805Z",
     "start_time": "2019-01-20T17:09:28.092126Z"
    }
   },
   "outputs": [],
   "source": [
    "x_eval = pd.read_csv(\"x_eval.csv\")\n",
    "y_eval = pd.read_csv(\"y_eval.csv\", header=None)\n",
    "y_eval_pred_lg1 = pd.read_csv(\"y_eval_pred_lg1.csv\", header=None)\n",
    "y_proba_lg1= pd.read_csv(\"y_proba_lg1.csv\", header=None)\n",
    "xtrain_b2 = pd.read_csv(\"xtrain_b2.csv\")\n",
    "ytrain_b2 = pd.read_csv(\"ytrain_b2.csv\", header=None)\n",
    "xtrain_b1 = pd.read_csv(\"xtrain_b1.csv\")\n",
    "ytrain_b1= pd.read_csv(\"ytrain_b1.csv\", header=None)"
   ]
  },
  {
   "cell_type": "markdown",
   "metadata": {},
   "source": [
    "**Neural Network**\n",
    "\n",
    "Now, let's test on a simple architecture of neural network:"
   ]
  },
  {
   "cell_type": "code",
   "execution_count": 6,
   "metadata": {
    "ExecuteTime": {
     "end_time": "2019-01-20T17:10:16.717097Z",
     "start_time": "2019-01-20T17:10:11.695528Z"
    }
   },
   "outputs": [],
   "source": [
    "xtrain_b2_rescaled = rescale(xtrain_b2)\n",
    "x_eval_rescaled = rescale(x_eval)"
   ]
  },
  {
   "cell_type": "code",
   "execution_count": 19,
   "metadata": {
    "ExecuteTime": {
     "end_time": "2019-01-20T17:28:46.129441Z",
     "start_time": "2019-01-20T17:14:32.230834Z"
    }
   },
   "outputs": [
    {
     "name": "stdout",
     "output_type": "stream",
     "text": [
      "Train on 979230 samples, validate on 1238005 samples\n",
      "Epoch 1/10\n",
      "979230/979230 [==============================] - 87s 89us/step - loss: 0.0631 - acc: 0.9765 - val_loss: 0.0469 - val_acc: 0.9828\n",
      "Epoch 2/10\n",
      "979230/979230 [==============================] - 82s 84us/step - loss: 0.0472 - acc: 0.9825 - val_loss: 0.0437 - val_acc: 0.9840\n",
      "Epoch 3/10\n",
      "979230/979230 [==============================] - 81s 82us/step - loss: 0.0433 - acc: 0.9837 - val_loss: 0.0419 - val_acc: 0.9844\n",
      "Epoch 4/10\n",
      "979230/979230 [==============================] - 82s 84us/step - loss: 0.0407 - acc: 0.9846 - val_loss: 0.0418 - val_acc: 0.9846\n",
      "Epoch 5/10\n",
      "979230/979230 [==============================] - 85s 86us/step - loss: 0.0387 - acc: 0.9853 - val_loss: 0.0400 - val_acc: 0.9851\n",
      "Epoch 6/10\n",
      "979230/979230 [==============================] - 83s 84us/step - loss: 0.0369 - acc: 0.9858 - val_loss: 0.0405 - val_acc: 0.9850\n",
      "Epoch 7/10\n",
      "979230/979230 [==============================] - 86s 88us/step - loss: 0.0353 - acc: 0.9864 - val_loss: 0.0379 - val_acc: 0.9859\n",
      "Epoch 8/10\n",
      "979230/979230 [==============================] - 87s 89us/step - loss: 0.0338 - acc: 0.9869 - val_loss: 0.0382 - val_acc: 0.9854\n",
      "Epoch 9/10\n",
      "979230/979230 [==============================] - 91s 93us/step - loss: 0.0325 - acc: 0.9874 - val_loss: 0.0385 - val_acc: 0.9858\n",
      "Epoch 10/10\n",
      "979230/979230 [==============================] - 90s 92us/step - loss: 0.0313 - acc: 0.9878 - val_loss: 0.0378 - val_acc: 0.9862\n"
     ]
    },
    {
     "data": {
      "text/plain": [
       "<keras.callbacks.History at 0x1372c817860>"
      ]
     },
     "execution_count": 19,
     "metadata": {},
     "output_type": "execute_result"
    }
   ],
   "source": [
    "from keras.layers import Input, Dense\n",
    "from keras.models import Model\n",
    "main_input = Input(shape=(36,), name='image1_2_scores')\n",
    "\n",
    "x = Dense(1024, activation='relu')(main_input)\n",
    "x = Dense(256, activation='relu')(x)\n",
    "x = Dense(64, activation='relu')(x)\n",
    "\n",
    "# And finally we add the main logistic regression layer\n",
    "main_output = Dense(1, activation='sigmoid', name='main_output')(x)\n",
    "\n",
    "model = Model(inputs=[main_input], outputs=[main_output])\n",
    "\n",
    "model.compile(optimizer='adam', loss='binary_crossentropy', metrics=['accuracy'])\n",
    "model.fit([xtrain_b2_rescaled.iloc[:,1:]], ytrain_b2.iloc[1:,1:], epochs=10, batch_size=1000, validation_data=([x_eval_rescaled.iloc[:,1:]], y_eval.iloc[1:,1:]))"
   ]
  },
  {
   "cell_type": "code",
   "execution_count": 23,
   "metadata": {
    "ExecuteTime": {
     "end_time": "2019-01-20T17:32:59.325372Z",
     "start_time": "2019-01-20T17:32:07.526885Z"
    }
   },
   "outputs": [
    {
     "data": {
      "text/plain": [
       "array([[3.1372446e-03],\n",
       "       [9.3040580e-06],\n",
       "       [1.2314749e-04],\n",
       "       ...,\n",
       "       [3.5695976e-04],\n",
       "       [9.9986506e-01],\n",
       "       [1.0000000e+00]], dtype=float32)"
      ]
     },
     "execution_count": 23,
     "metadata": {},
     "output_type": "execute_result"
    }
   ],
   "source": [
    "y_proba_nn2 = model.predict(x_eval_rescaled.iloc[:,1:])\n",
    "y_proba_nn2"
   ]
  },
  {
   "cell_type": "code",
   "execution_count": 24,
   "metadata": {
    "ExecuteTime": {
     "end_time": "2019-01-20T17:33:05.445007Z",
     "start_time": "2019-01-20T17:33:05.434038Z"
    }
   },
   "outputs": [
    {
     "data": {
      "text/plain": [
       "array([[0],\n",
       "       [0],\n",
       "       [0],\n",
       "       ...,\n",
       "       [0],\n",
       "       [1],\n",
       "       [1]])"
      ]
     },
     "execution_count": 24,
     "metadata": {},
     "output_type": "execute_result"
    }
   ],
   "source": [
    "y_eval_pred_nn2 = (y_proba_nn2 > 0.5).astype(np.int)\n",
    "y_eval_pred_nn2"
   ]
  },
  {
   "cell_type": "markdown",
   "metadata": {},
   "source": [
    "**Neural Network confusion matrix**"
   ]
  },
  {
   "cell_type": "code",
   "execution_count": 26,
   "metadata": {
    "ExecuteTime": {
     "end_time": "2019-01-20T17:33:27.541951Z",
     "start_time": "2019-01-20T17:33:26.049909Z"
    }
   },
   "outputs": [
    {
     "data": {
      "text/html": [
       "<div>\n",
       "<style scoped>\n",
       "    .dataframe tbody tr th:only-of-type {\n",
       "        vertical-align: middle;\n",
       "    }\n",
       "\n",
       "    .dataframe tbody tr th {\n",
       "        vertical-align: top;\n",
       "    }\n",
       "\n",
       "    .dataframe thead th {\n",
       "        text-align: right;\n",
       "    }\n",
       "</style>\n",
       "<table border=\"1\" class=\"dataframe\">\n",
       "  <thead>\n",
       "    <tr style=\"text-align: right;\">\n",
       "      <th></th>\n",
       "      <th>Predict 0</th>\n",
       "      <th>Predict 1</th>\n",
       "    </tr>\n",
       "  </thead>\n",
       "  <tbody>\n",
       "    <tr>\n",
       "      <th>Real 0</th>\n",
       "      <td>867906</td>\n",
       "      <td>3771</td>\n",
       "    </tr>\n",
       "    <tr>\n",
       "      <th>Real 1</th>\n",
       "      <td>13258</td>\n",
       "      <td>353070</td>\n",
       "    </tr>\n",
       "  </tbody>\n",
       "</table>\n",
       "</div>"
      ],
      "text/plain": [
       "        Predict 0  Predict 1\n",
       "Real 0     867906       3771\n",
       "Real 1      13258     353070"
      ]
     },
     "execution_count": 26,
     "metadata": {},
     "output_type": "execute_result"
    }
   ],
   "source": [
    "from sklearn.metrics import confusion_matrix\n",
    "pd.DataFrame(confusion_matrix(y_eval.iloc[1:,1:], y_eval_pred_nn2),\n",
    "            columns = [\"Predict 0\", \"Predict 1\"],\n",
    "            index = [\"Real 0\", \"Real 1\"])"
   ]
  },
  {
   "cell_type": "markdown",
   "metadata": {},
   "source": [
    "**Combine probabilities**"
   ]
  },
  {
   "cell_type": "code",
   "execution_count": 79,
   "metadata": {
    "ExecuteTime": {
     "end_time": "2019-01-20T17:49:25.665788Z",
     "start_time": "2019-01-20T17:49:25.636651Z"
    }
   },
   "outputs": [
    {
     "data": {
      "text/plain": [
       "array([[9.9686277e-01, 3.1372446e-03],\n",
       "       [9.9999070e-01, 9.3040580e-06],\n",
       "       [9.9987686e-01, 1.2314749e-04],\n",
       "       ...,\n",
       "       [9.9964303e-01, 3.5695976e-04],\n",
       "       [1.3494492e-04, 9.9986506e-01],\n",
       "       [0.0000000e+00, 1.0000000e+00]], dtype=float32)"
      ]
     },
     "execution_count": 79,
     "metadata": {},
     "output_type": "execute_result"
    }
   ],
   "source": [
    "proba_nn = np.concatenate((1 - y_proba_nn2, y_proba_nn2), axis=1)\n",
    "proba_nn"
   ]
  },
  {
   "cell_type": "code",
   "execution_count": 80,
   "metadata": {
    "ExecuteTime": {
     "end_time": "2019-01-20T17:49:27.801822Z",
     "start_time": "2019-01-20T17:49:27.754009Z"
    }
   },
   "outputs": [
    {
     "data": {
      "text/html": [
       "<div>\n",
       "<style scoped>\n",
       "    .dataframe tbody tr th:only-of-type {\n",
       "        vertical-align: middle;\n",
       "    }\n",
       "\n",
       "    .dataframe tbody tr th {\n",
       "        vertical-align: top;\n",
       "    }\n",
       "\n",
       "    .dataframe thead th {\n",
       "        text-align: right;\n",
       "    }\n",
       "</style>\n",
       "<table border=\"1\" class=\"dataframe\">\n",
       "  <thead>\n",
       "    <tr style=\"text-align: right;\">\n",
       "      <th></th>\n",
       "      <th>1</th>\n",
       "      <th>2</th>\n",
       "    </tr>\n",
       "  </thead>\n",
       "  <tbody>\n",
       "    <tr>\n",
       "      <th>1</th>\n",
       "      <td>0.998431</td>\n",
       "      <td>1.569373e-03</td>\n",
       "    </tr>\n",
       "    <tr>\n",
       "      <th>2</th>\n",
       "      <td>0.999995</td>\n",
       "      <td>4.652057e-06</td>\n",
       "    </tr>\n",
       "    <tr>\n",
       "      <th>3</th>\n",
       "      <td>0.999938</td>\n",
       "      <td>6.157376e-05</td>\n",
       "    </tr>\n",
       "    <tr>\n",
       "      <th>4</th>\n",
       "      <td>0.999999</td>\n",
       "      <td>4.928034e-07</td>\n",
       "    </tr>\n",
       "    <tr>\n",
       "      <th>5</th>\n",
       "      <td>0.999999</td>\n",
       "      <td>6.516381e-07</td>\n",
       "    </tr>\n",
       "  </tbody>\n",
       "</table>\n",
       "</div>"
      ],
      "text/plain": [
       "          1             2\n",
       "1  0.998431  1.569373e-03\n",
       "2  0.999995  4.652057e-06\n",
       "3  0.999938  6.157376e-05\n",
       "4  0.999999  4.928034e-07\n",
       "5  0.999999  6.516381e-07"
      ]
     },
     "execution_count": 80,
     "metadata": {},
     "output_type": "execute_result"
    }
   ],
   "source": [
    "new_proba = (y_proba_lg1.iloc[1:,1:] + proba_nn)/2\n",
    "new_proba.head()"
   ]
  },
  {
   "cell_type": "code",
   "execution_count": 85,
   "metadata": {
    "ExecuteTime": {
     "end_time": "2019-01-20T17:50:07.434839Z",
     "start_time": "2019-01-20T17:50:07.405916Z"
    }
   },
   "outputs": [
    {
     "data": {
      "text/html": [
       "<div>\n",
       "<style scoped>\n",
       "    .dataframe tbody tr th:only-of-type {\n",
       "        vertical-align: middle;\n",
       "    }\n",
       "\n",
       "    .dataframe tbody tr th {\n",
       "        vertical-align: top;\n",
       "    }\n",
       "\n",
       "    .dataframe thead th {\n",
       "        text-align: right;\n",
       "    }\n",
       "</style>\n",
       "<table border=\"1\" class=\"dataframe\">\n",
       "  <thead>\n",
       "    <tr style=\"text-align: right;\">\n",
       "      <th></th>\n",
       "      <th>2</th>\n",
       "    </tr>\n",
       "  </thead>\n",
       "  <tbody>\n",
       "    <tr>\n",
       "      <th>1</th>\n",
       "      <td>0</td>\n",
       "    </tr>\n",
       "    <tr>\n",
       "      <th>2</th>\n",
       "      <td>0</td>\n",
       "    </tr>\n",
       "    <tr>\n",
       "      <th>3</th>\n",
       "      <td>0</td>\n",
       "    </tr>\n",
       "    <tr>\n",
       "      <th>4</th>\n",
       "      <td>0</td>\n",
       "    </tr>\n",
       "    <tr>\n",
       "      <th>5</th>\n",
       "      <td>0</td>\n",
       "    </tr>\n",
       "  </tbody>\n",
       "</table>\n",
       "</div>"
      ],
      "text/plain": [
       "   2\n",
       "1  0\n",
       "2  0\n",
       "3  0\n",
       "4  0\n",
       "5  0"
      ]
     },
     "execution_count": 85,
     "metadata": {},
     "output_type": "execute_result"
    }
   ],
   "source": [
    "y_eval_pred_new = (new_proba > 0.5).astype(np.int).iloc[:,1:]\n",
    "y_eval_pred_new.head()"
   ]
  },
  {
   "cell_type": "code",
   "execution_count": 82,
   "metadata": {
    "ExecuteTime": {
     "end_time": "2019-01-20T17:49:44.680381Z",
     "start_time": "2019-01-20T17:49:44.667723Z"
    }
   },
   "outputs": [
    {
     "data": {
      "text/plain": [
       "(1238005,)"
      ]
     },
     "execution_count": 82,
     "metadata": {},
     "output_type": "execute_result"
    }
   ],
   "source": [
    "y_eval_pred_new = np.array(y_eval_pred_new).reshape(len(x_eval))\n",
    "y_eval_pred_new.shape"
   ]
  },
  {
   "cell_type": "code",
   "execution_count": 83,
   "metadata": {
    "ExecuteTime": {
     "end_time": "2019-01-20T17:49:46.219569Z",
     "start_time": "2019-01-20T17:49:46.187655Z"
    }
   },
   "outputs": [
    {
     "data": {
      "text/plain": [
       "(1238005,)"
      ]
     },
     "execution_count": 83,
     "metadata": {},
     "output_type": "execute_result"
    }
   ],
   "source": [
    "y_eval_new = np.array(y_eval.iloc[1:,1:]).reshape(len(x_eval))\n",
    "y_eval_new.shape"
   ]
  },
  {
   "cell_type": "code",
   "execution_count": 84,
   "metadata": {
    "ExecuteTime": {
     "end_time": "2019-01-20T17:49:54.201895Z",
     "start_time": "2019-01-20T17:49:54.184272Z"
    }
   },
   "outputs": [
    {
     "name": "stdout",
     "output_type": "stream",
     "text": [
      "The new precision on the evaluation dataset is 0.990361105165165\n"
     ]
    }
   ],
   "source": [
    "print(\"The new precision on the evaluation dataset is\", (y_eval_pred_new == y_eval_new).mean())"
   ]
  },
  {
   "cell_type": "markdown",
   "metadata": {},
   "source": [
    "We found out a better prediction than with the neural network alone but not better than with the lightgbm alone. Maybe if we have used the neural network enhanced, prediction would be better."
   ]
  },
  {
   "cell_type": "markdown",
   "metadata": {},
   "source": [
    "### Amelioration with comparision"
   ]
  },
  {
   "cell_type": "code",
   "execution_count": 170,
   "metadata": {
    "ExecuteTime": {
     "end_time": "2019-01-20T21:22:23.687703Z",
     "start_time": "2019-01-20T21:22:23.455323Z"
    }
   },
   "outputs": [],
   "source": [
    "# Get the best predicted ytest prediction\n",
    "ypredicted = pd.read_csv('ytest_challenge_student_nn3.csv', header=None)"
   ]
  },
  {
   "cell_type": "markdown",
   "metadata": {},
   "source": [
    "We have noticed some duplicated values in test and training. Let's verify that the predicted values on the test correspond to good values:"
   ]
  },
  {
   "cell_type": "code",
   "execution_count": 5,
   "metadata": {
    "ExecuteTime": {
     "end_time": "2019-01-20T20:17:40.574424Z",
     "start_time": "2019-01-20T20:16:51.052850Z"
    }
   },
   "outputs": [],
   "source": [
    "common_cols = xtrain.columns.tolist()  \n",
    "df21 = pd.merge(xtrain, xtest, on=common_cols, how='inner', left_index= True)"
   ]
  },
  {
   "cell_type": "code",
   "execution_count": 173,
   "metadata": {
    "ExecuteTime": {
     "end_time": "2019-01-20T21:24:51.400706Z",
     "start_time": "2019-01-20T21:24:51.369787Z"
    }
   },
   "outputs": [
    {
     "data": {
      "text/html": [
       "<div>\n",
       "<style scoped>\n",
       "    .dataframe tbody tr th:only-of-type {\n",
       "        vertical-align: middle;\n",
       "    }\n",
       "\n",
       "    .dataframe tbody tr th {\n",
       "        vertical-align: top;\n",
       "    }\n",
       "\n",
       "    .dataframe thead th {\n",
       "        text-align: right;\n",
       "    }\n",
       "</style>\n",
       "<table border=\"1\" class=\"dataframe\">\n",
       "  <thead>\n",
       "    <tr style=\"text-align: right;\">\n",
       "      <th></th>\n",
       "      <th>fA1</th>\n",
       "      <th>fA2</th>\n",
       "      <th>fA3</th>\n",
       "      <th>fA4</th>\n",
       "      <th>fA5</th>\n",
       "      <th>fA6</th>\n",
       "      <th>fA7</th>\n",
       "      <th>fA8</th>\n",
       "      <th>fA9</th>\n",
       "      <th>fA10</th>\n",
       "      <th>...</th>\n",
       "      <th>fB13</th>\n",
       "      <th>fB14</th>\n",
       "      <th>s1</th>\n",
       "      <th>s2</th>\n",
       "      <th>s3</th>\n",
       "      <th>s4</th>\n",
       "      <th>s5</th>\n",
       "      <th>s6</th>\n",
       "      <th>s7</th>\n",
       "      <th>s8</th>\n",
       "    </tr>\n",
       "  </thead>\n",
       "  <tbody>\n",
       "    <tr>\n",
       "      <th>1248452</th>\n",
       "      <td>3.15</td>\n",
       "      <td>0.00</td>\n",
       "      <td>0.0</td>\n",
       "      <td>28</td>\n",
       "      <td>1.00</td>\n",
       "      <td>0.00</td>\n",
       "      <td>0.0</td>\n",
       "      <td>0.08</td>\n",
       "      <td>-0.08</td>\n",
       "      <td>-0.01</td>\n",
       "      <td>...</td>\n",
       "      <td>0.01</td>\n",
       "      <td>248.69</td>\n",
       "      <td>2309.1</td>\n",
       "      <td>2164.0</td>\n",
       "      <td>1755.6</td>\n",
       "      <td>2377.4</td>\n",
       "      <td>1994.6</td>\n",
       "      <td>2147.6</td>\n",
       "      <td>1902.9</td>\n",
       "      <td>2599.5</td>\n",
       "    </tr>\n",
       "    <tr>\n",
       "      <th>15452</th>\n",
       "      <td>4.05</td>\n",
       "      <td>1.00</td>\n",
       "      <td>0.0</td>\n",
       "      <td>39</td>\n",
       "      <td>1.00</td>\n",
       "      <td>0.00</td>\n",
       "      <td>0.0</td>\n",
       "      <td>0.06</td>\n",
       "      <td>0.06</td>\n",
       "      <td>0.01</td>\n",
       "      <td>...</td>\n",
       "      <td>0.01</td>\n",
       "      <td>301.29</td>\n",
       "      <td>2557.8</td>\n",
       "      <td>1987.0</td>\n",
       "      <td>1706.8</td>\n",
       "      <td>2312.2</td>\n",
       "      <td>2422.4</td>\n",
       "      <td>1771.1</td>\n",
       "      <td>2648.6</td>\n",
       "      <td>2323.6</td>\n",
       "    </tr>\n",
       "    <tr>\n",
       "      <th>1514429</th>\n",
       "      <td>1.06</td>\n",
       "      <td>0.00</td>\n",
       "      <td>0.0</td>\n",
       "      <td>27</td>\n",
       "      <td>0.99</td>\n",
       "      <td>0.01</td>\n",
       "      <td>0.0</td>\n",
       "      <td>0.04</td>\n",
       "      <td>0.06</td>\n",
       "      <td>0.01</td>\n",
       "      <td>...</td>\n",
       "      <td>-0.03</td>\n",
       "      <td>356.98</td>\n",
       "      <td>2473.3</td>\n",
       "      <td>1716.4</td>\n",
       "      <td>1855.9</td>\n",
       "      <td>2797.8</td>\n",
       "      <td>2465.8</td>\n",
       "      <td>2249.1</td>\n",
       "      <td>2818.8</td>\n",
       "      <td>2906.9</td>\n",
       "    </tr>\n",
       "    <tr>\n",
       "      <th>563961</th>\n",
       "      <td>2.15</td>\n",
       "      <td>0.00</td>\n",
       "      <td>1.0</td>\n",
       "      <td>49</td>\n",
       "      <td>1.00</td>\n",
       "      <td>0.00</td>\n",
       "      <td>0.0</td>\n",
       "      <td>0.00</td>\n",
       "      <td>0.00</td>\n",
       "      <td>0.00</td>\n",
       "      <td>...</td>\n",
       "      <td>-0.02</td>\n",
       "      <td>229.30</td>\n",
       "      <td>2127.0</td>\n",
       "      <td>1845.4</td>\n",
       "      <td>2293.9</td>\n",
       "      <td>2835.5</td>\n",
       "      <td>2073.5</td>\n",
       "      <td>2219.6</td>\n",
       "      <td>2312.2</td>\n",
       "      <td>2236.9</td>\n",
       "    </tr>\n",
       "    <tr>\n",
       "      <th>879382</th>\n",
       "      <td>2.12</td>\n",
       "      <td>0.99</td>\n",
       "      <td>1.0</td>\n",
       "      <td>22</td>\n",
       "      <td>1.00</td>\n",
       "      <td>0.00</td>\n",
       "      <td>0.0</td>\n",
       "      <td>0.36</td>\n",
       "      <td>0.06</td>\n",
       "      <td>-0.01</td>\n",
       "      <td>...</td>\n",
       "      <td>-0.06</td>\n",
       "      <td>380.74</td>\n",
       "      <td>2311.3</td>\n",
       "      <td>1977.7</td>\n",
       "      <td>1507.9</td>\n",
       "      <td>2120.3</td>\n",
       "      <td>2212.5</td>\n",
       "      <td>2370.4</td>\n",
       "      <td>2291.2</td>\n",
       "      <td>2475.0</td>\n",
       "    </tr>\n",
       "  </tbody>\n",
       "</table>\n",
       "<p>5 rows × 36 columns</p>\n",
       "</div>"
      ],
      "text/plain": [
       "          fA1   fA2  fA3  fA4   fA5   fA6  fA7   fA8   fA9  fA10   ...    \\\n",
       "1248452  3.15  0.00  0.0   28  1.00  0.00  0.0  0.08 -0.08 -0.01   ...     \n",
       "15452    4.05  1.00  0.0   39  1.00  0.00  0.0  0.06  0.06  0.01   ...     \n",
       "1514429  1.06  0.00  0.0   27  0.99  0.01  0.0  0.04  0.06  0.01   ...     \n",
       "563961   2.15  0.00  1.0   49  1.00  0.00  0.0  0.00  0.00  0.00   ...     \n",
       "879382   2.12  0.99  1.0   22  1.00  0.00  0.0  0.36  0.06 -0.01   ...     \n",
       "\n",
       "         fB13    fB14      s1      s2      s3      s4      s5      s6      s7  \\\n",
       "1248452  0.01  248.69  2309.1  2164.0  1755.6  2377.4  1994.6  2147.6  1902.9   \n",
       "15452    0.01  301.29  2557.8  1987.0  1706.8  2312.2  2422.4  1771.1  2648.6   \n",
       "1514429 -0.03  356.98  2473.3  1716.4  1855.9  2797.8  2465.8  2249.1  2818.8   \n",
       "563961  -0.02  229.30  2127.0  1845.4  2293.9  2835.5  2073.5  2219.6  2312.2   \n",
       "879382  -0.06  380.74  2311.3  1977.7  1507.9  2120.3  2212.5  2370.4  2291.2   \n",
       "\n",
       "             s8  \n",
       "1248452  2599.5  \n",
       "15452    2323.6  \n",
       "1514429  2906.9  \n",
       "563961   2236.9  \n",
       "879382   2475.0  \n",
       "\n",
       "[5 rows x 36 columns]"
      ]
     },
     "execution_count": 173,
     "metadata": {},
     "output_type": "execute_result"
    }
   ],
   "source": [
    "df21.head()"
   ]
  },
  {
   "cell_type": "code",
   "execution_count": 6,
   "metadata": {
    "ExecuteTime": {
     "end_time": "2019-01-20T20:18:42.477891Z",
     "start_time": "2019-01-20T20:17:54.796396Z"
    }
   },
   "outputs": [],
   "source": [
    "df12 = pd.merge(xtrain, xtest, on=common_cols, how='inner', right_index= True)"
   ]
  },
  {
   "cell_type": "code",
   "execution_count": 172,
   "metadata": {
    "ExecuteTime": {
     "end_time": "2019-01-20T21:24:28.870952Z",
     "start_time": "2019-01-20T21:24:28.843028Z"
    }
   },
   "outputs": [
    {
     "data": {
      "text/html": [
       "<div>\n",
       "<style scoped>\n",
       "    .dataframe tbody tr th:only-of-type {\n",
       "        vertical-align: middle;\n",
       "    }\n",
       "\n",
       "    .dataframe tbody tr th {\n",
       "        vertical-align: top;\n",
       "    }\n",
       "\n",
       "    .dataframe thead th {\n",
       "        text-align: right;\n",
       "    }\n",
       "</style>\n",
       "<table border=\"1\" class=\"dataframe\">\n",
       "  <thead>\n",
       "    <tr style=\"text-align: right;\">\n",
       "      <th></th>\n",
       "      <th>fA1</th>\n",
       "      <th>fA2</th>\n",
       "      <th>fA3</th>\n",
       "      <th>fA4</th>\n",
       "      <th>fA5</th>\n",
       "      <th>fA6</th>\n",
       "      <th>fA7</th>\n",
       "      <th>fA8</th>\n",
       "      <th>fA9</th>\n",
       "      <th>fA10</th>\n",
       "      <th>...</th>\n",
       "      <th>fB13</th>\n",
       "      <th>fB14</th>\n",
       "      <th>s1</th>\n",
       "      <th>s2</th>\n",
       "      <th>s3</th>\n",
       "      <th>s4</th>\n",
       "      <th>s5</th>\n",
       "      <th>s6</th>\n",
       "      <th>s7</th>\n",
       "      <th>s8</th>\n",
       "    </tr>\n",
       "  </thead>\n",
       "  <tbody>\n",
       "    <tr>\n",
       "      <th>4</th>\n",
       "      <td>3.15</td>\n",
       "      <td>0.00</td>\n",
       "      <td>0.0</td>\n",
       "      <td>28</td>\n",
       "      <td>1.00</td>\n",
       "      <td>0.00</td>\n",
       "      <td>0.0</td>\n",
       "      <td>0.08</td>\n",
       "      <td>-0.08</td>\n",
       "      <td>-0.01</td>\n",
       "      <td>...</td>\n",
       "      <td>0.01</td>\n",
       "      <td>248.69</td>\n",
       "      <td>2309.1</td>\n",
       "      <td>2164.0</td>\n",
       "      <td>1755.6</td>\n",
       "      <td>2377.4</td>\n",
       "      <td>1994.6</td>\n",
       "      <td>2147.6</td>\n",
       "      <td>1902.9</td>\n",
       "      <td>2599.5</td>\n",
       "    </tr>\n",
       "    <tr>\n",
       "      <th>297</th>\n",
       "      <td>4.05</td>\n",
       "      <td>1.00</td>\n",
       "      <td>0.0</td>\n",
       "      <td>39</td>\n",
       "      <td>1.00</td>\n",
       "      <td>0.00</td>\n",
       "      <td>0.0</td>\n",
       "      <td>0.06</td>\n",
       "      <td>0.06</td>\n",
       "      <td>0.01</td>\n",
       "      <td>...</td>\n",
       "      <td>0.01</td>\n",
       "      <td>301.29</td>\n",
       "      <td>2557.8</td>\n",
       "      <td>1987.0</td>\n",
       "      <td>1706.8</td>\n",
       "      <td>2312.2</td>\n",
       "      <td>2422.4</td>\n",
       "      <td>1771.1</td>\n",
       "      <td>2648.6</td>\n",
       "      <td>2323.6</td>\n",
       "    </tr>\n",
       "    <tr>\n",
       "      <th>480</th>\n",
       "      <td>1.06</td>\n",
       "      <td>0.00</td>\n",
       "      <td>0.0</td>\n",
       "      <td>27</td>\n",
       "      <td>0.99</td>\n",
       "      <td>0.01</td>\n",
       "      <td>0.0</td>\n",
       "      <td>0.04</td>\n",
       "      <td>0.06</td>\n",
       "      <td>0.01</td>\n",
       "      <td>...</td>\n",
       "      <td>-0.03</td>\n",
       "      <td>356.98</td>\n",
       "      <td>2473.3</td>\n",
       "      <td>1716.4</td>\n",
       "      <td>1855.9</td>\n",
       "      <td>2797.8</td>\n",
       "      <td>2465.8</td>\n",
       "      <td>2249.1</td>\n",
       "      <td>2818.8</td>\n",
       "      <td>2906.9</td>\n",
       "    </tr>\n",
       "    <tr>\n",
       "      <th>577</th>\n",
       "      <td>2.15</td>\n",
       "      <td>0.00</td>\n",
       "      <td>1.0</td>\n",
       "      <td>49</td>\n",
       "      <td>1.00</td>\n",
       "      <td>0.00</td>\n",
       "      <td>0.0</td>\n",
       "      <td>0.00</td>\n",
       "      <td>0.00</td>\n",
       "      <td>0.00</td>\n",
       "      <td>...</td>\n",
       "      <td>-0.02</td>\n",
       "      <td>229.30</td>\n",
       "      <td>2127.0</td>\n",
       "      <td>1845.4</td>\n",
       "      <td>2293.9</td>\n",
       "      <td>2835.5</td>\n",
       "      <td>2073.5</td>\n",
       "      <td>2219.6</td>\n",
       "      <td>2312.2</td>\n",
       "      <td>2236.9</td>\n",
       "    </tr>\n",
       "    <tr>\n",
       "      <th>715</th>\n",
       "      <td>2.12</td>\n",
       "      <td>0.99</td>\n",
       "      <td>1.0</td>\n",
       "      <td>22</td>\n",
       "      <td>1.00</td>\n",
       "      <td>0.00</td>\n",
       "      <td>0.0</td>\n",
       "      <td>0.36</td>\n",
       "      <td>0.06</td>\n",
       "      <td>-0.01</td>\n",
       "      <td>...</td>\n",
       "      <td>-0.06</td>\n",
       "      <td>380.74</td>\n",
       "      <td>2311.3</td>\n",
       "      <td>1977.7</td>\n",
       "      <td>1507.9</td>\n",
       "      <td>2120.3</td>\n",
       "      <td>2212.5</td>\n",
       "      <td>2370.4</td>\n",
       "      <td>2291.2</td>\n",
       "      <td>2475.0</td>\n",
       "    </tr>\n",
       "  </tbody>\n",
       "</table>\n",
       "<p>5 rows × 36 columns</p>\n",
       "</div>"
      ],
      "text/plain": [
       "      fA1   fA2  fA3  fA4   fA5   fA6  fA7   fA8   fA9  fA10   ...    fB13  \\\n",
       "4    3.15  0.00  0.0   28  1.00  0.00  0.0  0.08 -0.08 -0.01   ...    0.01   \n",
       "297  4.05  1.00  0.0   39  1.00  0.00  0.0  0.06  0.06  0.01   ...    0.01   \n",
       "480  1.06  0.00  0.0   27  0.99  0.01  0.0  0.04  0.06  0.01   ...   -0.03   \n",
       "577  2.15  0.00  1.0   49  1.00  0.00  0.0  0.00  0.00  0.00   ...   -0.02   \n",
       "715  2.12  0.99  1.0   22  1.00  0.00  0.0  0.36  0.06 -0.01   ...   -0.06   \n",
       "\n",
       "       fB14      s1      s2      s3      s4      s5      s6      s7      s8  \n",
       "4    248.69  2309.1  2164.0  1755.6  2377.4  1994.6  2147.6  1902.9  2599.5  \n",
       "297  301.29  2557.8  1987.0  1706.8  2312.2  2422.4  1771.1  2648.6  2323.6  \n",
       "480  356.98  2473.3  1716.4  1855.9  2797.8  2465.8  2249.1  2818.8  2906.9  \n",
       "577  229.30  2127.0  1845.4  2293.9  2835.5  2073.5  2219.6  2312.2  2236.9  \n",
       "715  380.74  2311.3  1977.7  1507.9  2120.3  2212.5  2370.4  2291.2  2475.0  \n",
       "\n",
       "[5 rows x 36 columns]"
      ]
     },
     "execution_count": 172,
     "metadata": {},
     "output_type": "execute_result"
    }
   ],
   "source": [
    "df12.head()"
   ]
  },
  {
   "cell_type": "code",
   "execution_count": 7,
   "metadata": {
    "ExecuteTime": {
     "end_time": "2019-01-20T20:18:46.016427Z",
     "start_time": "2019-01-20T20:18:46.011441Z"
    }
   },
   "outputs": [],
   "source": [
    "indexes1 = df12.index.tolist()\n",
    "indexes2 = df21.index.tolist()"
   ]
  },
  {
   "cell_type": "code",
   "execution_count": 22,
   "metadata": {
    "ExecuteTime": {
     "end_time": "2019-01-20T20:23:40.290514Z",
     "start_time": "2019-01-20T20:23:40.285528Z"
    }
   },
   "outputs": [
    {
     "name": "stdout",
     "output_type": "stream",
     "text": [
      "3196228\n",
      "1598214\n"
     ]
    }
   ],
   "source": [
    "print(max(indexes1))\n",
    "print(max(indexes2))"
   ]
  },
  {
   "cell_type": "code",
   "execution_count": 171,
   "metadata": {
    "ExecuteTime": {
     "end_time": "2019-01-20T21:23:01.578382Z",
     "start_time": "2019-01-20T21:23:00.778519Z"
    }
   },
   "outputs": [
    {
     "data": {
      "text/plain": [
       "0    1.0\n",
       "dtype: float64"
      ]
     },
     "execution_count": 171,
     "metadata": {},
     "output_type": "execute_result"
    }
   ],
   "source": [
    "(ypredicted.loc[indexes2, :] == pd.DataFrame(ytrain).loc[indexes1].values).mean()"
   ]
  },
  {
   "cell_type": "markdown",
   "metadata": {},
   "source": [
    "We found out that we predicted true values on the testing set."
   ]
  },
  {
   "cell_type": "markdown",
   "metadata": {},
   "source": [
    "## Conclusion"
   ]
  },
  {
   "cell_type": "markdown",
   "metadata": {},
   "source": [
    "This challenge was an opportunity to deal with a large dataset both on the training and on the testing.\n",
    "\n",
    "We also tried out different algorithms but focused on Lightgbm giving good performances and neural network. Then, we used several methods of data transformation and rescaling based on data vizualisation and exploration.\n",
    "\n",
    "We also tried out some neural networks architecture and experieremed limitations on this approach like the number of epochs to converge, the optimal number of hidden layers to test and how to architecture the network so it reproduces information on the data and avoid overfitting.\n",
    "\n",
    "We finally started testing a combining method on a created evaluation dataset that tries to visualize confusion matrices on both chosen models (lightgbm and neural network) and exploite prediction probabilities.\n",
    "\n",
    "In the next steps, we could test other models apart from the neural network and the lightgbm for the combining.\n",
    "\n",
    "Also, we have exploited the similarity between the test and train data as noticed to see if we have predicted the right class seen in the train.\n",
    "\n",
    "To go further, we can draw a graph of different images and find out which are similar by transitivity."
   ]
  }
 ],
 "metadata": {
  "colab": {
   "collapsed_sections": [
    "bbxNXkKbF6gs",
    "O8lmu2uRF6hd",
    "wlbLKGo_F6iW"
   ],
   "name": "Challenge Report.ipynb",
   "provenance": [],
   "version": "0.3.2"
  },
  "kernelspec": {
   "display_name": "Python 3",
   "language": "python",
   "name": "python3"
  },
  "language_info": {
   "codemirror_mode": {
    "name": "ipython",
    "version": 3
   },
   "file_extension": ".py",
   "mimetype": "text/x-python",
   "name": "python",
   "nbconvert_exporter": "python",
   "pygments_lexer": "ipython3",
   "version": "3.6.5"
  }
 },
 "nbformat": 4,
 "nbformat_minor": 1
}
